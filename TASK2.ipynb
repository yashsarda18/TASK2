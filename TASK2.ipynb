{
  "nbformat": 4,
  "nbformat_minor": 0,
  "metadata": {
    "colab": {
      "provenance": [],
      "gpuType": "T4",
      "authorship_tag": "ABX9TyONzRUf02CRUmF5Cds5ST2L",
      "include_colab_link": true
    },
    "kernelspec": {
      "name": "python3",
      "display_name": "Python 3"
    },
    "language_info": {
      "name": "python"
    },
    "accelerator": "GPU",
    "widgets": {
      "application/vnd.jupyter.widget-state+json": {
        "fb3b7ce9a4304208a882e7f571ad6f8a": {
          "model_module": "@jupyter-widgets/controls",
          "model_name": "VBoxModel",
          "model_module_version": "1.5.0",
          "state": {
            "_dom_classes": [
              "widget-interact"
            ],
            "_model_module": "@jupyter-widgets/controls",
            "_model_module_version": "1.5.0",
            "_model_name": "VBoxModel",
            "_view_count": null,
            "_view_module": "@jupyter-widgets/controls",
            "_view_module_version": "1.5.0",
            "_view_name": "VBoxView",
            "box_style": "",
            "children": [
              "IPY_MODEL_e42d927001594f4ba2be503b81e6b6a5",
              "IPY_MODEL_8889b3c9e3a2475d90579d4f70763cd1",
              "IPY_MODEL_0b84ec51be4742fb95780d4796387930",
              "IPY_MODEL_4e813f5814a849df9e9125f42e6bc153",
              "IPY_MODEL_1c1b530f1dcb409b8dd558abf45de73c",
              "IPY_MODEL_b3630a54ea7c46fcb5777d556105b9d7"
            ],
            "layout": "IPY_MODEL_cad702074785438dab63208e59afd97e"
          }
        },
        "e42d927001594f4ba2be503b81e6b6a5": {
          "model_module": "@jupyter-widgets/controls",
          "model_name": "IntSliderModel",
          "model_module_version": "1.5.0",
          "state": {
            "_dom_classes": [],
            "_model_module": "@jupyter-widgets/controls",
            "_model_module_version": "1.5.0",
            "_model_name": "IntSliderModel",
            "_view_count": null,
            "_view_module": "@jupyter-widgets/controls",
            "_view_module_version": "1.5.0",
            "_view_name": "IntSliderView",
            "continuous_update": false,
            "description": "Start Timestamp:",
            "description_tooltip": null,
            "disabled": false,
            "layout": "IPY_MODEL_db31d228a2744894aac34915cfdc891b",
            "max": 1621527919,
            "min": 315964902,
            "orientation": "horizontal",
            "readout": true,
            "readout_format": "d",
            "step": 1,
            "style": "IPY_MODEL_5d48a76e53c84b178accb735fbc39221",
            "value": 315964902
          }
        },
        "8889b3c9e3a2475d90579d4f70763cd1": {
          "model_module": "@jupyter-widgets/controls",
          "model_name": "IntSliderModel",
          "model_module_version": "1.5.0",
          "state": {
            "_dom_classes": [],
            "_model_module": "@jupyter-widgets/controls",
            "_model_module_version": "1.5.0",
            "_model_name": "IntSliderModel",
            "_view_count": null,
            "_view_module": "@jupyter-widgets/controls",
            "_view_module_version": "1.5.0",
            "_view_name": "IntSliderView",
            "continuous_update": false,
            "description": "End Timestamp:",
            "description_tooltip": null,
            "disabled": false,
            "layout": "IPY_MODEL_4252cb8229e84b46910d2e92c1826635",
            "max": 1621527919,
            "min": 315964902,
            "orientation": "horizontal",
            "readout": true,
            "readout_format": "d",
            "step": 1,
            "style": "IPY_MODEL_748fd2d73a9c44be921a78caf656cbcc",
            "value": 1621527919
          }
        },
        "0b84ec51be4742fb95780d4796387930": {
          "model_module": "@jupyter-widgets/controls",
          "model_name": "CheckboxModel",
          "model_module_version": "1.5.0",
          "state": {
            "_dom_classes": [],
            "_model_module": "@jupyter-widgets/controls",
            "_model_module_version": "1.5.0",
            "_model_name": "CheckboxModel",
            "_view_count": null,
            "_view_module": "@jupyter-widgets/controls",
            "_view_module_version": "1.5.0",
            "_view_name": "CheckboxView",
            "description": "PM1.0",
            "description_tooltip": null,
            "disabled": false,
            "indent": true,
            "layout": "IPY_MODEL_a50a7d3886af41378672cd8222c6f52e",
            "style": "IPY_MODEL_2141e99a49ae450ca60be8c23bf9227a",
            "value": true
          }
        },
        "4e813f5814a849df9e9125f42e6bc153": {
          "model_module": "@jupyter-widgets/controls",
          "model_name": "CheckboxModel",
          "model_module_version": "1.5.0",
          "state": {
            "_dom_classes": [],
            "_model_module": "@jupyter-widgets/controls",
            "_model_module_version": "1.5.0",
            "_model_name": "CheckboxModel",
            "_view_count": null,
            "_view_module": "@jupyter-widgets/controls",
            "_view_module_version": "1.5.0",
            "_view_name": "CheckboxView",
            "description": "PM2.5",
            "description_tooltip": null,
            "disabled": false,
            "indent": true,
            "layout": "IPY_MODEL_8d8e5fba90cd4615ae65347f4cf0e212",
            "style": "IPY_MODEL_d0e879c2aba5436286074aa48bc570b1",
            "value": true
          }
        },
        "1c1b530f1dcb409b8dd558abf45de73c": {
          "model_module": "@jupyter-widgets/controls",
          "model_name": "CheckboxModel",
          "model_module_version": "1.5.0",
          "state": {
            "_dom_classes": [],
            "_model_module": "@jupyter-widgets/controls",
            "_model_module_version": "1.5.0",
            "_model_name": "CheckboxModel",
            "_view_count": null,
            "_view_module": "@jupyter-widgets/controls",
            "_view_module_version": "1.5.0",
            "_view_name": "CheckboxView",
            "description": "PM10",
            "description_tooltip": null,
            "disabled": false,
            "indent": true,
            "layout": "IPY_MODEL_afb96cb120104531b45aa6cc5baedbd7",
            "style": "IPY_MODEL_b22e5cb4d3194872945cee782a65b568",
            "value": true
          }
        },
        "b3630a54ea7c46fcb5777d556105b9d7": {
          "model_module": "@jupyter-widgets/output",
          "model_name": "OutputModel",
          "model_module_version": "1.0.0",
          "state": {
            "_dom_classes": [],
            "_model_module": "@jupyter-widgets/output",
            "_model_module_version": "1.0.0",
            "_model_name": "OutputModel",
            "_view_count": null,
            "_view_module": "@jupyter-widgets/output",
            "_view_module_version": "1.0.0",
            "_view_name": "OutputView",
            "layout": "IPY_MODEL_d1997739223d471cb4e07186beaf0bfb",
            "msg_id": "",
            "outputs": [
              {
                "output_type": "display_data",
                "data": {
                  "text/plain": "<Figure size 1000x600 with 1 Axes>",
                  "image/png": "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\n"
                },
                "metadata": {}
              }
            ]
          }
        },
        "cad702074785438dab63208e59afd97e": {
          "model_module": "@jupyter-widgets/base",
          "model_name": "LayoutModel",
          "model_module_version": "1.2.0",
          "state": {
            "_model_module": "@jupyter-widgets/base",
            "_model_module_version": "1.2.0",
            "_model_name": "LayoutModel",
            "_view_count": null,
            "_view_module": "@jupyter-widgets/base",
            "_view_module_version": "1.2.0",
            "_view_name": "LayoutView",
            "align_content": null,
            "align_items": null,
            "align_self": null,
            "border": null,
            "bottom": null,
            "display": null,
            "flex": null,
            "flex_flow": null,
            "grid_area": null,
            "grid_auto_columns": null,
            "grid_auto_flow": null,
            "grid_auto_rows": null,
            "grid_column": null,
            "grid_gap": null,
            "grid_row": null,
            "grid_template_areas": null,
            "grid_template_columns": null,
            "grid_template_rows": null,
            "height": null,
            "justify_content": null,
            "justify_items": null,
            "left": null,
            "margin": null,
            "max_height": null,
            "max_width": null,
            "min_height": null,
            "min_width": null,
            "object_fit": null,
            "object_position": null,
            "order": null,
            "overflow": null,
            "overflow_x": null,
            "overflow_y": null,
            "padding": null,
            "right": null,
            "top": null,
            "visibility": null,
            "width": null
          }
        },
        "db31d228a2744894aac34915cfdc891b": {
          "model_module": "@jupyter-widgets/base",
          "model_name": "LayoutModel",
          "model_module_version": "1.2.0",
          "state": {
            "_model_module": "@jupyter-widgets/base",
            "_model_module_version": "1.2.0",
            "_model_name": "LayoutModel",
            "_view_count": null,
            "_view_module": "@jupyter-widgets/base",
            "_view_module_version": "1.2.0",
            "_view_name": "LayoutView",
            "align_content": null,
            "align_items": null,
            "align_self": null,
            "border": null,
            "bottom": null,
            "display": null,
            "flex": null,
            "flex_flow": null,
            "grid_area": null,
            "grid_auto_columns": null,
            "grid_auto_flow": null,
            "grid_auto_rows": null,
            "grid_column": null,
            "grid_gap": null,
            "grid_row": null,
            "grid_template_areas": null,
            "grid_template_columns": null,
            "grid_template_rows": null,
            "height": null,
            "justify_content": null,
            "justify_items": null,
            "left": null,
            "margin": null,
            "max_height": null,
            "max_width": null,
            "min_height": null,
            "min_width": null,
            "object_fit": null,
            "object_position": null,
            "order": null,
            "overflow": null,
            "overflow_x": null,
            "overflow_y": null,
            "padding": null,
            "right": null,
            "top": null,
            "visibility": null,
            "width": null
          }
        },
        "5d48a76e53c84b178accb735fbc39221": {
          "model_module": "@jupyter-widgets/controls",
          "model_name": "SliderStyleModel",
          "model_module_version": "1.5.0",
          "state": {
            "_model_module": "@jupyter-widgets/controls",
            "_model_module_version": "1.5.0",
            "_model_name": "SliderStyleModel",
            "_view_count": null,
            "_view_module": "@jupyter-widgets/base",
            "_view_module_version": "1.2.0",
            "_view_name": "StyleView",
            "description_width": "",
            "handle_color": null
          }
        },
        "4252cb8229e84b46910d2e92c1826635": {
          "model_module": "@jupyter-widgets/base",
          "model_name": "LayoutModel",
          "model_module_version": "1.2.0",
          "state": {
            "_model_module": "@jupyter-widgets/base",
            "_model_module_version": "1.2.0",
            "_model_name": "LayoutModel",
            "_view_count": null,
            "_view_module": "@jupyter-widgets/base",
            "_view_module_version": "1.2.0",
            "_view_name": "LayoutView",
            "align_content": null,
            "align_items": null,
            "align_self": null,
            "border": null,
            "bottom": null,
            "display": null,
            "flex": null,
            "flex_flow": null,
            "grid_area": null,
            "grid_auto_columns": null,
            "grid_auto_flow": null,
            "grid_auto_rows": null,
            "grid_column": null,
            "grid_gap": null,
            "grid_row": null,
            "grid_template_areas": null,
            "grid_template_columns": null,
            "grid_template_rows": null,
            "height": null,
            "justify_content": null,
            "justify_items": null,
            "left": null,
            "margin": null,
            "max_height": null,
            "max_width": null,
            "min_height": null,
            "min_width": null,
            "object_fit": null,
            "object_position": null,
            "order": null,
            "overflow": null,
            "overflow_x": null,
            "overflow_y": null,
            "padding": null,
            "right": null,
            "top": null,
            "visibility": null,
            "width": null
          }
        },
        "748fd2d73a9c44be921a78caf656cbcc": {
          "model_module": "@jupyter-widgets/controls",
          "model_name": "SliderStyleModel",
          "model_module_version": "1.5.0",
          "state": {
            "_model_module": "@jupyter-widgets/controls",
            "_model_module_version": "1.5.0",
            "_model_name": "SliderStyleModel",
            "_view_count": null,
            "_view_module": "@jupyter-widgets/base",
            "_view_module_version": "1.2.0",
            "_view_name": "StyleView",
            "description_width": "",
            "handle_color": null
          }
        },
        "a50a7d3886af41378672cd8222c6f52e": {
          "model_module": "@jupyter-widgets/base",
          "model_name": "LayoutModel",
          "model_module_version": "1.2.0",
          "state": {
            "_model_module": "@jupyter-widgets/base",
            "_model_module_version": "1.2.0",
            "_model_name": "LayoutModel",
            "_view_count": null,
            "_view_module": "@jupyter-widgets/base",
            "_view_module_version": "1.2.0",
            "_view_name": "LayoutView",
            "align_content": null,
            "align_items": null,
            "align_self": null,
            "border": null,
            "bottom": null,
            "display": null,
            "flex": null,
            "flex_flow": null,
            "grid_area": null,
            "grid_auto_columns": null,
            "grid_auto_flow": null,
            "grid_auto_rows": null,
            "grid_column": null,
            "grid_gap": null,
            "grid_row": null,
            "grid_template_areas": null,
            "grid_template_columns": null,
            "grid_template_rows": null,
            "height": null,
            "justify_content": null,
            "justify_items": null,
            "left": null,
            "margin": null,
            "max_height": null,
            "max_width": null,
            "min_height": null,
            "min_width": null,
            "object_fit": null,
            "object_position": null,
            "order": null,
            "overflow": null,
            "overflow_x": null,
            "overflow_y": null,
            "padding": null,
            "right": null,
            "top": null,
            "visibility": null,
            "width": null
          }
        },
        "2141e99a49ae450ca60be8c23bf9227a": {
          "model_module": "@jupyter-widgets/controls",
          "model_name": "DescriptionStyleModel",
          "model_module_version": "1.5.0",
          "state": {
            "_model_module": "@jupyter-widgets/controls",
            "_model_module_version": "1.5.0",
            "_model_name": "DescriptionStyleModel",
            "_view_count": null,
            "_view_module": "@jupyter-widgets/base",
            "_view_module_version": "1.2.0",
            "_view_name": "StyleView",
            "description_width": ""
          }
        },
        "8d8e5fba90cd4615ae65347f4cf0e212": {
          "model_module": "@jupyter-widgets/base",
          "model_name": "LayoutModel",
          "model_module_version": "1.2.0",
          "state": {
            "_model_module": "@jupyter-widgets/base",
            "_model_module_version": "1.2.0",
            "_model_name": "LayoutModel",
            "_view_count": null,
            "_view_module": "@jupyter-widgets/base",
            "_view_module_version": "1.2.0",
            "_view_name": "LayoutView",
            "align_content": null,
            "align_items": null,
            "align_self": null,
            "border": null,
            "bottom": null,
            "display": null,
            "flex": null,
            "flex_flow": null,
            "grid_area": null,
            "grid_auto_columns": null,
            "grid_auto_flow": null,
            "grid_auto_rows": null,
            "grid_column": null,
            "grid_gap": null,
            "grid_row": null,
            "grid_template_areas": null,
            "grid_template_columns": null,
            "grid_template_rows": null,
            "height": null,
            "justify_content": null,
            "justify_items": null,
            "left": null,
            "margin": null,
            "max_height": null,
            "max_width": null,
            "min_height": null,
            "min_width": null,
            "object_fit": null,
            "object_position": null,
            "order": null,
            "overflow": null,
            "overflow_x": null,
            "overflow_y": null,
            "padding": null,
            "right": null,
            "top": null,
            "visibility": null,
            "width": null
          }
        },
        "d0e879c2aba5436286074aa48bc570b1": {
          "model_module": "@jupyter-widgets/controls",
          "model_name": "DescriptionStyleModel",
          "model_module_version": "1.5.0",
          "state": {
            "_model_module": "@jupyter-widgets/controls",
            "_model_module_version": "1.5.0",
            "_model_name": "DescriptionStyleModel",
            "_view_count": null,
            "_view_module": "@jupyter-widgets/base",
            "_view_module_version": "1.2.0",
            "_view_name": "StyleView",
            "description_width": ""
          }
        },
        "afb96cb120104531b45aa6cc5baedbd7": {
          "model_module": "@jupyter-widgets/base",
          "model_name": "LayoutModel",
          "model_module_version": "1.2.0",
          "state": {
            "_model_module": "@jupyter-widgets/base",
            "_model_module_version": "1.2.0",
            "_model_name": "LayoutModel",
            "_view_count": null,
            "_view_module": "@jupyter-widgets/base",
            "_view_module_version": "1.2.0",
            "_view_name": "LayoutView",
            "align_content": null,
            "align_items": null,
            "align_self": null,
            "border": null,
            "bottom": null,
            "display": null,
            "flex": null,
            "flex_flow": null,
            "grid_area": null,
            "grid_auto_columns": null,
            "grid_auto_flow": null,
            "grid_auto_rows": null,
            "grid_column": null,
            "grid_gap": null,
            "grid_row": null,
            "grid_template_areas": null,
            "grid_template_columns": null,
            "grid_template_rows": null,
            "height": null,
            "justify_content": null,
            "justify_items": null,
            "left": null,
            "margin": null,
            "max_height": null,
            "max_width": null,
            "min_height": null,
            "min_width": null,
            "object_fit": null,
            "object_position": null,
            "order": null,
            "overflow": null,
            "overflow_x": null,
            "overflow_y": null,
            "padding": null,
            "right": null,
            "top": null,
            "visibility": null,
            "width": null
          }
        },
        "b22e5cb4d3194872945cee782a65b568": {
          "model_module": "@jupyter-widgets/controls",
          "model_name": "DescriptionStyleModel",
          "model_module_version": "1.5.0",
          "state": {
            "_model_module": "@jupyter-widgets/controls",
            "_model_module_version": "1.5.0",
            "_model_name": "DescriptionStyleModel",
            "_view_count": null,
            "_view_module": "@jupyter-widgets/base",
            "_view_module_version": "1.2.0",
            "_view_name": "StyleView",
            "description_width": ""
          }
        },
        "d1997739223d471cb4e07186beaf0bfb": {
          "model_module": "@jupyter-widgets/base",
          "model_name": "LayoutModel",
          "model_module_version": "1.2.0",
          "state": {
            "_model_module": "@jupyter-widgets/base",
            "_model_module_version": "1.2.0",
            "_model_name": "LayoutModel",
            "_view_count": null,
            "_view_module": "@jupyter-widgets/base",
            "_view_module_version": "1.2.0",
            "_view_name": "LayoutView",
            "align_content": null,
            "align_items": null,
            "align_self": null,
            "border": null,
            "bottom": null,
            "display": null,
            "flex": null,
            "flex_flow": null,
            "grid_area": null,
            "grid_auto_columns": null,
            "grid_auto_flow": null,
            "grid_auto_rows": null,
            "grid_column": null,
            "grid_gap": null,
            "grid_row": null,
            "grid_template_areas": null,
            "grid_template_columns": null,
            "grid_template_rows": null,
            "height": null,
            "justify_content": null,
            "justify_items": null,
            "left": null,
            "margin": null,
            "max_height": null,
            "max_width": null,
            "min_height": null,
            "min_width": null,
            "object_fit": null,
            "object_position": null,
            "order": null,
            "overflow": null,
            "overflow_x": null,
            "overflow_y": null,
            "padding": null,
            "right": null,
            "top": null,
            "visibility": null,
            "width": null
          }
        }
      }
    }
  },
  "cells": [
    {
      "cell_type": "markdown",
      "metadata": {
        "id": "view-in-github",
        "colab_type": "text"
      },
      "source": [
        "<a href=\"https://colab.research.google.com/github/yashsarda18/TASK2/blob/main/TASK2.ipynb\" target=\"_parent\"><img src=\"https://colab.research.google.com/assets/colab-badge.svg\" alt=\"Open In Colab\"/></a>"
      ]
    },
    {
      "cell_type": "markdown",
      "source": [
        "# Install paho-mqtt in colab so that it can communicate with mqtt broker"
      ],
      "metadata": {
        "id": "FoxgyTE68Iq8"
      }
    },
    {
      "cell_type": "code",
      "execution_count": 43,
      "metadata": {
        "colab": {
          "base_uri": "https://localhost:8080/"
        },
        "id": "QGYRJqnH7y6W",
        "outputId": "4a3a98a5-adaf-4804-8656-8f2465ecca50"
      },
      "outputs": [
        {
          "output_type": "stream",
          "name": "stdout",
          "text": [
            "Requirement already satisfied: paho-mqtt in /usr/local/lib/python3.10/dist-packages (1.6.1)\n"
          ]
        }
      ],
      "source": [
        "!pip install paho-mqtt"
      ]
    },
    {
      "cell_type": "code",
      "source": [
        "import paho.mqtt.client as mqtt\n"
      ],
      "metadata": {
        "id": "_t61CGxL8nzl"
      },
      "execution_count": 44,
      "outputs": []
    },
    {
      "cell_type": "markdown",
      "source": [
        "# Getting hands on with the dataset (basic preprocessing)"
      ],
      "metadata": {
        "id": "n17D2rdIMAWC"
      }
    },
    {
      "cell_type": "code",
      "source": [
        "import pandas as pd\n"
      ],
      "metadata": {
        "id": "w-LMGVnrLdol"
      },
      "execution_count": 45,
      "outputs": []
    },
    {
      "cell_type": "code",
      "source": [
        "data = pd.read_csv(\"/content/test_dataset_all (1) (1).csv\")"
      ],
      "metadata": {
        "id": "Wh0h5rjXLmFf"
      },
      "execution_count": 46,
      "outputs": []
    },
    {
      "cell_type": "code",
      "source": [
        "data.head()"
      ],
      "metadata": {
        "colab": {
          "base_uri": "https://localhost:8080/",
          "height": 206
        },
        "id": "Ag-h_9NyMN67",
        "outputId": "dd771c93-fb11-4b7f-c8dd-9153878a076a"
      },
      "execution_count": 47,
      "outputs": [
        {
          "output_type": "execute_result",
          "data": {
            "text/plain": [
              "    device                  t  w   h  p1  p25  p10\n",
              "0  DeviceA  21/03/19,09:01:46  2  SE  30   48   62\n",
              "1  DeviceA  21/03/19,09:08:28  3   S  32   50   67\n",
              "2  DeviceA  21/03/19,09:15:09  1   W  31   48   64\n",
              "3  DeviceA  21/03/19,09:21:51  4  NW  29   49   62\n",
              "4  DeviceA  21/03/19,09:28:32  9   S  30   47   61"
            ],
            "text/html": [
              "\n",
              "  <div id=\"df-933aeb85-c785-45e5-afe6-46682014e0b2\" class=\"colab-df-container\">\n",
              "    <div>\n",
              "<style scoped>\n",
              "    .dataframe tbody tr th:only-of-type {\n",
              "        vertical-align: middle;\n",
              "    }\n",
              "\n",
              "    .dataframe tbody tr th {\n",
              "        vertical-align: top;\n",
              "    }\n",
              "\n",
              "    .dataframe thead th {\n",
              "        text-align: right;\n",
              "    }\n",
              "</style>\n",
              "<table border=\"1\" class=\"dataframe\">\n",
              "  <thead>\n",
              "    <tr style=\"text-align: right;\">\n",
              "      <th></th>\n",
              "      <th>device</th>\n",
              "      <th>t</th>\n",
              "      <th>w</th>\n",
              "      <th>h</th>\n",
              "      <th>p1</th>\n",
              "      <th>p25</th>\n",
              "      <th>p10</th>\n",
              "    </tr>\n",
              "  </thead>\n",
              "  <tbody>\n",
              "    <tr>\n",
              "      <th>0</th>\n",
              "      <td>DeviceA</td>\n",
              "      <td>21/03/19,09:01:46</td>\n",
              "      <td>2</td>\n",
              "      <td>SE</td>\n",
              "      <td>30</td>\n",
              "      <td>48</td>\n",
              "      <td>62</td>\n",
              "    </tr>\n",
              "    <tr>\n",
              "      <th>1</th>\n",
              "      <td>DeviceA</td>\n",
              "      <td>21/03/19,09:08:28</td>\n",
              "      <td>3</td>\n",
              "      <td>S</td>\n",
              "      <td>32</td>\n",
              "      <td>50</td>\n",
              "      <td>67</td>\n",
              "    </tr>\n",
              "    <tr>\n",
              "      <th>2</th>\n",
              "      <td>DeviceA</td>\n",
              "      <td>21/03/19,09:15:09</td>\n",
              "      <td>1</td>\n",
              "      <td>W</td>\n",
              "      <td>31</td>\n",
              "      <td>48</td>\n",
              "      <td>64</td>\n",
              "    </tr>\n",
              "    <tr>\n",
              "      <th>3</th>\n",
              "      <td>DeviceA</td>\n",
              "      <td>21/03/19,09:21:51</td>\n",
              "      <td>4</td>\n",
              "      <td>NW</td>\n",
              "      <td>29</td>\n",
              "      <td>49</td>\n",
              "      <td>62</td>\n",
              "    </tr>\n",
              "    <tr>\n",
              "      <th>4</th>\n",
              "      <td>DeviceA</td>\n",
              "      <td>21/03/19,09:28:32</td>\n",
              "      <td>9</td>\n",
              "      <td>S</td>\n",
              "      <td>30</td>\n",
              "      <td>47</td>\n",
              "      <td>61</td>\n",
              "    </tr>\n",
              "  </tbody>\n",
              "</table>\n",
              "</div>\n",
              "    <div class=\"colab-df-buttons\">\n",
              "\n",
              "  <div class=\"colab-df-container\">\n",
              "    <button class=\"colab-df-convert\" onclick=\"convertToInteractive('df-933aeb85-c785-45e5-afe6-46682014e0b2')\"\n",
              "            title=\"Convert this dataframe to an interactive table.\"\n",
              "            style=\"display:none;\">\n",
              "\n",
              "  <svg xmlns=\"http://www.w3.org/2000/svg\" height=\"24px\" viewBox=\"0 -960 960 960\">\n",
              "    <path d=\"M120-120v-720h720v720H120Zm60-500h600v-160H180v160Zm220 220h160v-160H400v160Zm0 220h160v-160H400v160ZM180-400h160v-160H180v160Zm440 0h160v-160H620v160ZM180-180h160v-160H180v160Zm440 0h160v-160H620v160Z\"/>\n",
              "  </svg>\n",
              "    </button>\n",
              "\n",
              "  <style>\n",
              "    .colab-df-container {\n",
              "      display:flex;\n",
              "      gap: 12px;\n",
              "    }\n",
              "\n",
              "    .colab-df-convert {\n",
              "      background-color: #E8F0FE;\n",
              "      border: none;\n",
              "      border-radius: 50%;\n",
              "      cursor: pointer;\n",
              "      display: none;\n",
              "      fill: #1967D2;\n",
              "      height: 32px;\n",
              "      padding: 0 0 0 0;\n",
              "      width: 32px;\n",
              "    }\n",
              "\n",
              "    .colab-df-convert:hover {\n",
              "      background-color: #E2EBFA;\n",
              "      box-shadow: 0px 1px 2px rgba(60, 64, 67, 0.3), 0px 1px 3px 1px rgba(60, 64, 67, 0.15);\n",
              "      fill: #174EA6;\n",
              "    }\n",
              "\n",
              "    .colab-df-buttons div {\n",
              "      margin-bottom: 4px;\n",
              "    }\n",
              "\n",
              "    [theme=dark] .colab-df-convert {\n",
              "      background-color: #3B4455;\n",
              "      fill: #D2E3FC;\n",
              "    }\n",
              "\n",
              "    [theme=dark] .colab-df-convert:hover {\n",
              "      background-color: #434B5C;\n",
              "      box-shadow: 0px 1px 3px 1px rgba(0, 0, 0, 0.15);\n",
              "      filter: drop-shadow(0px 1px 2px rgba(0, 0, 0, 0.3));\n",
              "      fill: #FFFFFF;\n",
              "    }\n",
              "  </style>\n",
              "\n",
              "    <script>\n",
              "      const buttonEl =\n",
              "        document.querySelector('#df-933aeb85-c785-45e5-afe6-46682014e0b2 button.colab-df-convert');\n",
              "      buttonEl.style.display =\n",
              "        google.colab.kernel.accessAllowed ? 'block' : 'none';\n",
              "\n",
              "      async function convertToInteractive(key) {\n",
              "        const element = document.querySelector('#df-933aeb85-c785-45e5-afe6-46682014e0b2');\n",
              "        const dataTable =\n",
              "          await google.colab.kernel.invokeFunction('convertToInteractive',\n",
              "                                                    [key], {});\n",
              "        if (!dataTable) return;\n",
              "\n",
              "        const docLinkHtml = 'Like what you see? Visit the ' +\n",
              "          '<a target=\"_blank\" href=https://colab.research.google.com/notebooks/data_table.ipynb>data table notebook</a>'\n",
              "          + ' to learn more about interactive tables.';\n",
              "        element.innerHTML = '';\n",
              "        dataTable['output_type'] = 'display_data';\n",
              "        await google.colab.output.renderOutput(dataTable, element);\n",
              "        const docLink = document.createElement('div');\n",
              "        docLink.innerHTML = docLinkHtml;\n",
              "        element.appendChild(docLink);\n",
              "      }\n",
              "    </script>\n",
              "  </div>\n",
              "\n",
              "\n",
              "<div id=\"df-ddb02418-4daf-4ad2-97f2-f2da81a4d11e\">\n",
              "  <button class=\"colab-df-quickchart\" onclick=\"quickchart('df-ddb02418-4daf-4ad2-97f2-f2da81a4d11e')\"\n",
              "            title=\"Suggest charts.\"\n",
              "            style=\"display:none;\">\n",
              "\n",
              "<svg xmlns=\"http://www.w3.org/2000/svg\" height=\"24px\"viewBox=\"0 0 24 24\"\n",
              "     width=\"24px\">\n",
              "    <g>\n",
              "        <path d=\"M19 3H5c-1.1 0-2 .9-2 2v14c0 1.1.9 2 2 2h14c1.1 0 2-.9 2-2V5c0-1.1-.9-2-2-2zM9 17H7v-7h2v7zm4 0h-2V7h2v10zm4 0h-2v-4h2v4z\"/>\n",
              "    </g>\n",
              "</svg>\n",
              "  </button>\n",
              "\n",
              "<style>\n",
              "  .colab-df-quickchart {\n",
              "      --bg-color: #E8F0FE;\n",
              "      --fill-color: #1967D2;\n",
              "      --hover-bg-color: #E2EBFA;\n",
              "      --hover-fill-color: #174EA6;\n",
              "      --disabled-fill-color: #AAA;\n",
              "      --disabled-bg-color: #DDD;\n",
              "  }\n",
              "\n",
              "  [theme=dark] .colab-df-quickchart {\n",
              "      --bg-color: #3B4455;\n",
              "      --fill-color: #D2E3FC;\n",
              "      --hover-bg-color: #434B5C;\n",
              "      --hover-fill-color: #FFFFFF;\n",
              "      --disabled-bg-color: #3B4455;\n",
              "      --disabled-fill-color: #666;\n",
              "  }\n",
              "\n",
              "  .colab-df-quickchart {\n",
              "    background-color: var(--bg-color);\n",
              "    border: none;\n",
              "    border-radius: 50%;\n",
              "    cursor: pointer;\n",
              "    display: none;\n",
              "    fill: var(--fill-color);\n",
              "    height: 32px;\n",
              "    padding: 0;\n",
              "    width: 32px;\n",
              "  }\n",
              "\n",
              "  .colab-df-quickchart:hover {\n",
              "    background-color: var(--hover-bg-color);\n",
              "    box-shadow: 0 1px 2px rgba(60, 64, 67, 0.3), 0 1px 3px 1px rgba(60, 64, 67, 0.15);\n",
              "    fill: var(--button-hover-fill-color);\n",
              "  }\n",
              "\n",
              "  .colab-df-quickchart-complete:disabled,\n",
              "  .colab-df-quickchart-complete:disabled:hover {\n",
              "    background-color: var(--disabled-bg-color);\n",
              "    fill: var(--disabled-fill-color);\n",
              "    box-shadow: none;\n",
              "  }\n",
              "\n",
              "  .colab-df-spinner {\n",
              "    border: 2px solid var(--fill-color);\n",
              "    border-color: transparent;\n",
              "    border-bottom-color: var(--fill-color);\n",
              "    animation:\n",
              "      spin 1s steps(1) infinite;\n",
              "  }\n",
              "\n",
              "  @keyframes spin {\n",
              "    0% {\n",
              "      border-color: transparent;\n",
              "      border-bottom-color: var(--fill-color);\n",
              "      border-left-color: var(--fill-color);\n",
              "    }\n",
              "    20% {\n",
              "      border-color: transparent;\n",
              "      border-left-color: var(--fill-color);\n",
              "      border-top-color: var(--fill-color);\n",
              "    }\n",
              "    30% {\n",
              "      border-color: transparent;\n",
              "      border-left-color: var(--fill-color);\n",
              "      border-top-color: var(--fill-color);\n",
              "      border-right-color: var(--fill-color);\n",
              "    }\n",
              "    40% {\n",
              "      border-color: transparent;\n",
              "      border-right-color: var(--fill-color);\n",
              "      border-top-color: var(--fill-color);\n",
              "    }\n",
              "    60% {\n",
              "      border-color: transparent;\n",
              "      border-right-color: var(--fill-color);\n",
              "    }\n",
              "    80% {\n",
              "      border-color: transparent;\n",
              "      border-right-color: var(--fill-color);\n",
              "      border-bottom-color: var(--fill-color);\n",
              "    }\n",
              "    90% {\n",
              "      border-color: transparent;\n",
              "      border-bottom-color: var(--fill-color);\n",
              "    }\n",
              "  }\n",
              "</style>\n",
              "\n",
              "  <script>\n",
              "    async function quickchart(key) {\n",
              "      const quickchartButtonEl =\n",
              "        document.querySelector('#' + key + ' button');\n",
              "      quickchartButtonEl.disabled = true;  // To prevent multiple clicks.\n",
              "      quickchartButtonEl.classList.add('colab-df-spinner');\n",
              "      try {\n",
              "        const charts = await google.colab.kernel.invokeFunction(\n",
              "            'suggestCharts', [key], {});\n",
              "      } catch (error) {\n",
              "        console.error('Error during call to suggestCharts:', error);\n",
              "      }\n",
              "      quickchartButtonEl.classList.remove('colab-df-spinner');\n",
              "      quickchartButtonEl.classList.add('colab-df-quickchart-complete');\n",
              "    }\n",
              "    (() => {\n",
              "      let quickchartButtonEl =\n",
              "        document.querySelector('#df-ddb02418-4daf-4ad2-97f2-f2da81a4d11e button');\n",
              "      quickchartButtonEl.style.display =\n",
              "        google.colab.kernel.accessAllowed ? 'block' : 'none';\n",
              "    })();\n",
              "  </script>\n",
              "</div>\n",
              "    </div>\n",
              "  </div>\n"
            ]
          },
          "metadata": {},
          "execution_count": 47
        }
      ]
    },
    {
      "cell_type": "code",
      "source": [
        "data.shape"
      ],
      "metadata": {
        "colab": {
          "base_uri": "https://localhost:8080/"
        },
        "id": "zs1qT2djMee7",
        "outputId": "6f2468ae-abb5-4575-c939-27ba86d03142"
      },
      "execution_count": 48,
      "outputs": [
        {
          "output_type": "execute_result",
          "data": {
            "text/plain": [
              "(12079, 7)"
            ]
          },
          "metadata": {},
          "execution_count": 48
        }
      ]
    },
    {
      "cell_type": "code",
      "source": [
        "data.describe()"
      ],
      "metadata": {
        "colab": {
          "base_uri": "https://localhost:8080/",
          "height": 300
        },
        "id": "BMeszroMMPV9",
        "outputId": "6bbeb73e-6ca1-4bc8-ad08-26a41d270db0"
      },
      "execution_count": 49,
      "outputs": [
        {
          "output_type": "execute_result",
          "data": {
            "text/plain": [
              "                  w            p1           p25           p10\n",
              "count  12079.000000  12079.000000  12079.000000  12079.000000\n",
              "mean       2.696084    155.379502    168.438364    177.403759\n",
              "std        3.227753    871.699514    870.278664    869.327281\n",
              "min        0.000000      0.000000      0.000000      0.000000\n",
              "25%        1.000000     14.000000     18.000000     22.000000\n",
              "50%        2.000000     23.000000     32.000000     42.000000\n",
              "75%        3.000000     34.000000     50.000000     65.000000\n",
              "max       33.000000   6434.000000   6434.000000   6434.000000"
            ],
            "text/html": [
              "\n",
              "  <div id=\"df-c8efd0b1-1fda-4004-8aa0-596836c63719\" class=\"colab-df-container\">\n",
              "    <div>\n",
              "<style scoped>\n",
              "    .dataframe tbody tr th:only-of-type {\n",
              "        vertical-align: middle;\n",
              "    }\n",
              "\n",
              "    .dataframe tbody tr th {\n",
              "        vertical-align: top;\n",
              "    }\n",
              "\n",
              "    .dataframe thead th {\n",
              "        text-align: right;\n",
              "    }\n",
              "</style>\n",
              "<table border=\"1\" class=\"dataframe\">\n",
              "  <thead>\n",
              "    <tr style=\"text-align: right;\">\n",
              "      <th></th>\n",
              "      <th>w</th>\n",
              "      <th>p1</th>\n",
              "      <th>p25</th>\n",
              "      <th>p10</th>\n",
              "    </tr>\n",
              "  </thead>\n",
              "  <tbody>\n",
              "    <tr>\n",
              "      <th>count</th>\n",
              "      <td>12079.000000</td>\n",
              "      <td>12079.000000</td>\n",
              "      <td>12079.000000</td>\n",
              "      <td>12079.000000</td>\n",
              "    </tr>\n",
              "    <tr>\n",
              "      <th>mean</th>\n",
              "      <td>2.696084</td>\n",
              "      <td>155.379502</td>\n",
              "      <td>168.438364</td>\n",
              "      <td>177.403759</td>\n",
              "    </tr>\n",
              "    <tr>\n",
              "      <th>std</th>\n",
              "      <td>3.227753</td>\n",
              "      <td>871.699514</td>\n",
              "      <td>870.278664</td>\n",
              "      <td>869.327281</td>\n",
              "    </tr>\n",
              "    <tr>\n",
              "      <th>min</th>\n",
              "      <td>0.000000</td>\n",
              "      <td>0.000000</td>\n",
              "      <td>0.000000</td>\n",
              "      <td>0.000000</td>\n",
              "    </tr>\n",
              "    <tr>\n",
              "      <th>25%</th>\n",
              "      <td>1.000000</td>\n",
              "      <td>14.000000</td>\n",
              "      <td>18.000000</td>\n",
              "      <td>22.000000</td>\n",
              "    </tr>\n",
              "    <tr>\n",
              "      <th>50%</th>\n",
              "      <td>2.000000</td>\n",
              "      <td>23.000000</td>\n",
              "      <td>32.000000</td>\n",
              "      <td>42.000000</td>\n",
              "    </tr>\n",
              "    <tr>\n",
              "      <th>75%</th>\n",
              "      <td>3.000000</td>\n",
              "      <td>34.000000</td>\n",
              "      <td>50.000000</td>\n",
              "      <td>65.000000</td>\n",
              "    </tr>\n",
              "    <tr>\n",
              "      <th>max</th>\n",
              "      <td>33.000000</td>\n",
              "      <td>6434.000000</td>\n",
              "      <td>6434.000000</td>\n",
              "      <td>6434.000000</td>\n",
              "    </tr>\n",
              "  </tbody>\n",
              "</table>\n",
              "</div>\n",
              "    <div class=\"colab-df-buttons\">\n",
              "\n",
              "  <div class=\"colab-df-container\">\n",
              "    <button class=\"colab-df-convert\" onclick=\"convertToInteractive('df-c8efd0b1-1fda-4004-8aa0-596836c63719')\"\n",
              "            title=\"Convert this dataframe to an interactive table.\"\n",
              "            style=\"display:none;\">\n",
              "\n",
              "  <svg xmlns=\"http://www.w3.org/2000/svg\" height=\"24px\" viewBox=\"0 -960 960 960\">\n",
              "    <path d=\"M120-120v-720h720v720H120Zm60-500h600v-160H180v160Zm220 220h160v-160H400v160Zm0 220h160v-160H400v160ZM180-400h160v-160H180v160Zm440 0h160v-160H620v160ZM180-180h160v-160H180v160Zm440 0h160v-160H620v160Z\"/>\n",
              "  </svg>\n",
              "    </button>\n",
              "\n",
              "  <style>\n",
              "    .colab-df-container {\n",
              "      display:flex;\n",
              "      gap: 12px;\n",
              "    }\n",
              "\n",
              "    .colab-df-convert {\n",
              "      background-color: #E8F0FE;\n",
              "      border: none;\n",
              "      border-radius: 50%;\n",
              "      cursor: pointer;\n",
              "      display: none;\n",
              "      fill: #1967D2;\n",
              "      height: 32px;\n",
              "      padding: 0 0 0 0;\n",
              "      width: 32px;\n",
              "    }\n",
              "\n",
              "    .colab-df-convert:hover {\n",
              "      background-color: #E2EBFA;\n",
              "      box-shadow: 0px 1px 2px rgba(60, 64, 67, 0.3), 0px 1px 3px 1px rgba(60, 64, 67, 0.15);\n",
              "      fill: #174EA6;\n",
              "    }\n",
              "\n",
              "    .colab-df-buttons div {\n",
              "      margin-bottom: 4px;\n",
              "    }\n",
              "\n",
              "    [theme=dark] .colab-df-convert {\n",
              "      background-color: #3B4455;\n",
              "      fill: #D2E3FC;\n",
              "    }\n",
              "\n",
              "    [theme=dark] .colab-df-convert:hover {\n",
              "      background-color: #434B5C;\n",
              "      box-shadow: 0px 1px 3px 1px rgba(0, 0, 0, 0.15);\n",
              "      filter: drop-shadow(0px 1px 2px rgba(0, 0, 0, 0.3));\n",
              "      fill: #FFFFFF;\n",
              "    }\n",
              "  </style>\n",
              "\n",
              "    <script>\n",
              "      const buttonEl =\n",
              "        document.querySelector('#df-c8efd0b1-1fda-4004-8aa0-596836c63719 button.colab-df-convert');\n",
              "      buttonEl.style.display =\n",
              "        google.colab.kernel.accessAllowed ? 'block' : 'none';\n",
              "\n",
              "      async function convertToInteractive(key) {\n",
              "        const element = document.querySelector('#df-c8efd0b1-1fda-4004-8aa0-596836c63719');\n",
              "        const dataTable =\n",
              "          await google.colab.kernel.invokeFunction('convertToInteractive',\n",
              "                                                    [key], {});\n",
              "        if (!dataTable) return;\n",
              "\n",
              "        const docLinkHtml = 'Like what you see? Visit the ' +\n",
              "          '<a target=\"_blank\" href=https://colab.research.google.com/notebooks/data_table.ipynb>data table notebook</a>'\n",
              "          + ' to learn more about interactive tables.';\n",
              "        element.innerHTML = '';\n",
              "        dataTable['output_type'] = 'display_data';\n",
              "        await google.colab.output.renderOutput(dataTable, element);\n",
              "        const docLink = document.createElement('div');\n",
              "        docLink.innerHTML = docLinkHtml;\n",
              "        element.appendChild(docLink);\n",
              "      }\n",
              "    </script>\n",
              "  </div>\n",
              "\n",
              "\n",
              "<div id=\"df-ff115fd7-345f-4ed2-b4f0-2964e8e01807\">\n",
              "  <button class=\"colab-df-quickchart\" onclick=\"quickchart('df-ff115fd7-345f-4ed2-b4f0-2964e8e01807')\"\n",
              "            title=\"Suggest charts.\"\n",
              "            style=\"display:none;\">\n",
              "\n",
              "<svg xmlns=\"http://www.w3.org/2000/svg\" height=\"24px\"viewBox=\"0 0 24 24\"\n",
              "     width=\"24px\">\n",
              "    <g>\n",
              "        <path d=\"M19 3H5c-1.1 0-2 .9-2 2v14c0 1.1.9 2 2 2h14c1.1 0 2-.9 2-2V5c0-1.1-.9-2-2-2zM9 17H7v-7h2v7zm4 0h-2V7h2v10zm4 0h-2v-4h2v4z\"/>\n",
              "    </g>\n",
              "</svg>\n",
              "  </button>\n",
              "\n",
              "<style>\n",
              "  .colab-df-quickchart {\n",
              "      --bg-color: #E8F0FE;\n",
              "      --fill-color: #1967D2;\n",
              "      --hover-bg-color: #E2EBFA;\n",
              "      --hover-fill-color: #174EA6;\n",
              "      --disabled-fill-color: #AAA;\n",
              "      --disabled-bg-color: #DDD;\n",
              "  }\n",
              "\n",
              "  [theme=dark] .colab-df-quickchart {\n",
              "      --bg-color: #3B4455;\n",
              "      --fill-color: #D2E3FC;\n",
              "      --hover-bg-color: #434B5C;\n",
              "      --hover-fill-color: #FFFFFF;\n",
              "      --disabled-bg-color: #3B4455;\n",
              "      --disabled-fill-color: #666;\n",
              "  }\n",
              "\n",
              "  .colab-df-quickchart {\n",
              "    background-color: var(--bg-color);\n",
              "    border: none;\n",
              "    border-radius: 50%;\n",
              "    cursor: pointer;\n",
              "    display: none;\n",
              "    fill: var(--fill-color);\n",
              "    height: 32px;\n",
              "    padding: 0;\n",
              "    width: 32px;\n",
              "  }\n",
              "\n",
              "  .colab-df-quickchart:hover {\n",
              "    background-color: var(--hover-bg-color);\n",
              "    box-shadow: 0 1px 2px rgba(60, 64, 67, 0.3), 0 1px 3px 1px rgba(60, 64, 67, 0.15);\n",
              "    fill: var(--button-hover-fill-color);\n",
              "  }\n",
              "\n",
              "  .colab-df-quickchart-complete:disabled,\n",
              "  .colab-df-quickchart-complete:disabled:hover {\n",
              "    background-color: var(--disabled-bg-color);\n",
              "    fill: var(--disabled-fill-color);\n",
              "    box-shadow: none;\n",
              "  }\n",
              "\n",
              "  .colab-df-spinner {\n",
              "    border: 2px solid var(--fill-color);\n",
              "    border-color: transparent;\n",
              "    border-bottom-color: var(--fill-color);\n",
              "    animation:\n",
              "      spin 1s steps(1) infinite;\n",
              "  }\n",
              "\n",
              "  @keyframes spin {\n",
              "    0% {\n",
              "      border-color: transparent;\n",
              "      border-bottom-color: var(--fill-color);\n",
              "      border-left-color: var(--fill-color);\n",
              "    }\n",
              "    20% {\n",
              "      border-color: transparent;\n",
              "      border-left-color: var(--fill-color);\n",
              "      border-top-color: var(--fill-color);\n",
              "    }\n",
              "    30% {\n",
              "      border-color: transparent;\n",
              "      border-left-color: var(--fill-color);\n",
              "      border-top-color: var(--fill-color);\n",
              "      border-right-color: var(--fill-color);\n",
              "    }\n",
              "    40% {\n",
              "      border-color: transparent;\n",
              "      border-right-color: var(--fill-color);\n",
              "      border-top-color: var(--fill-color);\n",
              "    }\n",
              "    60% {\n",
              "      border-color: transparent;\n",
              "      border-right-color: var(--fill-color);\n",
              "    }\n",
              "    80% {\n",
              "      border-color: transparent;\n",
              "      border-right-color: var(--fill-color);\n",
              "      border-bottom-color: var(--fill-color);\n",
              "    }\n",
              "    90% {\n",
              "      border-color: transparent;\n",
              "      border-bottom-color: var(--fill-color);\n",
              "    }\n",
              "  }\n",
              "</style>\n",
              "\n",
              "  <script>\n",
              "    async function quickchart(key) {\n",
              "      const quickchartButtonEl =\n",
              "        document.querySelector('#' + key + ' button');\n",
              "      quickchartButtonEl.disabled = true;  // To prevent multiple clicks.\n",
              "      quickchartButtonEl.classList.add('colab-df-spinner');\n",
              "      try {\n",
              "        const charts = await google.colab.kernel.invokeFunction(\n",
              "            'suggestCharts', [key], {});\n",
              "      } catch (error) {\n",
              "        console.error('Error during call to suggestCharts:', error);\n",
              "      }\n",
              "      quickchartButtonEl.classList.remove('colab-df-spinner');\n",
              "      quickchartButtonEl.classList.add('colab-df-quickchart-complete');\n",
              "    }\n",
              "    (() => {\n",
              "      let quickchartButtonEl =\n",
              "        document.querySelector('#df-ff115fd7-345f-4ed2-b4f0-2964e8e01807 button');\n",
              "      quickchartButtonEl.style.display =\n",
              "        google.colab.kernel.accessAllowed ? 'block' : 'none';\n",
              "    })();\n",
              "  </script>\n",
              "</div>\n",
              "    </div>\n",
              "  </div>\n"
            ]
          },
          "metadata": {},
          "execution_count": 49
        }
      ]
    },
    {
      "cell_type": "code",
      "source": [
        "data.info()"
      ],
      "metadata": {
        "colab": {
          "base_uri": "https://localhost:8080/"
        },
        "id": "Ab7jsR9RMaxH",
        "outputId": "94cca6b5-6e5b-4f7c-eebd-83294006002c"
      },
      "execution_count": 50,
      "outputs": [
        {
          "output_type": "stream",
          "name": "stdout",
          "text": [
            "<class 'pandas.core.frame.DataFrame'>\n",
            "RangeIndex: 12079 entries, 0 to 12078\n",
            "Data columns (total 7 columns):\n",
            " #   Column  Non-Null Count  Dtype \n",
            "---  ------  --------------  ----- \n",
            " 0   device  12079 non-null  object\n",
            " 1   t       12066 non-null  object\n",
            " 2   w       12079 non-null  int64 \n",
            " 3   h       12079 non-null  object\n",
            " 4   p1      12079 non-null  int64 \n",
            " 5   p25     12079 non-null  int64 \n",
            " 6   p10     12079 non-null  int64 \n",
            "dtypes: int64(4), object(3)\n",
            "memory usage: 660.7+ KB\n"
          ]
        }
      ]
    },
    {
      "cell_type": "markdown",
      "source": [
        "As there are only 13 rows where value of timestamp is missing , we can remove these rows"
      ],
      "metadata": {
        "id": "GoNKsTwHON3P"
      }
    },
    {
      "cell_type": "code",
      "source": [
        "# Removing 13 rows where the value of time stamp is missing\n",
        "data.dropna(subset=[\"t\"], inplace = True)"
      ],
      "metadata": {
        "id": "oR2DfNx9Munv"
      },
      "execution_count": 51,
      "outputs": []
    },
    {
      "cell_type": "code",
      "source": [
        "data.info()\n",
        "# Removed 13 rows"
      ],
      "metadata": {
        "colab": {
          "base_uri": "https://localhost:8080/"
        },
        "id": "C9Wu9Q2WOBt0",
        "outputId": "4c7f5a0d-66f0-454e-e545-ff42e12e746f"
      },
      "execution_count": 52,
      "outputs": [
        {
          "output_type": "stream",
          "name": "stdout",
          "text": [
            "<class 'pandas.core.frame.DataFrame'>\n",
            "Int64Index: 12066 entries, 0 to 12078\n",
            "Data columns (total 7 columns):\n",
            " #   Column  Non-Null Count  Dtype \n",
            "---  ------  --------------  ----- \n",
            " 0   device  12066 non-null  object\n",
            " 1   t       12066 non-null  object\n",
            " 2   w       12066 non-null  int64 \n",
            " 3   h       12066 non-null  object\n",
            " 4   p1      12066 non-null  int64 \n",
            " 5   p25     12066 non-null  int64 \n",
            " 6   p10     12066 non-null  int64 \n",
            "dtypes: int64(4), object(3)\n",
            "memory usage: 754.1+ KB\n"
          ]
        }
      ]
    },
    {
      "cell_type": "code",
      "source": [
        "data.drop(columns=[\"device\"], inplace = True)"
      ],
      "metadata": {
        "id": "aGKDQQwTOEUq"
      },
      "execution_count": 53,
      "outputs": []
    },
    {
      "cell_type": "code",
      "source": [
        "data.info()"
      ],
      "metadata": {
        "colab": {
          "base_uri": "https://localhost:8080/"
        },
        "id": "q-sfozWbO3Ry",
        "outputId": "a4f165b5-b51b-47e8-ef04-1d1f1b6e92bd"
      },
      "execution_count": 54,
      "outputs": [
        {
          "output_type": "stream",
          "name": "stdout",
          "text": [
            "<class 'pandas.core.frame.DataFrame'>\n",
            "Int64Index: 12066 entries, 0 to 12078\n",
            "Data columns (total 6 columns):\n",
            " #   Column  Non-Null Count  Dtype \n",
            "---  ------  --------------  ----- \n",
            " 0   t       12066 non-null  object\n",
            " 1   w       12066 non-null  int64 \n",
            " 2   h       12066 non-null  object\n",
            " 3   p1      12066 non-null  int64 \n",
            " 4   p25     12066 non-null  int64 \n",
            " 5   p10     12066 non-null  int64 \n",
            "dtypes: int64(4), object(2)\n",
            "memory usage: 659.9+ KB\n"
          ]
        }
      ]
    },
    {
      "cell_type": "code",
      "source": [
        "from datetime import datetime"
      ],
      "metadata": {
        "id": "UzUIWWSqO5Lu"
      },
      "execution_count": 55,
      "outputs": []
    },
    {
      "cell_type": "code",
      "source": [
        "data['t'] = pd.to_datetime(data['t'], format='%y/%m/%d,%H:%M:%S')\n",
        "data['t'] = data['t'].astype(int) // 10**9  # Convert nanoseconds to seconds"
      ],
      "metadata": {
        "id": "DKkwyxJtTpwF"
      },
      "execution_count": 56,
      "outputs": []
    },
    {
      "cell_type": "code",
      "source": [
        "data['t'][:5]"
      ],
      "metadata": {
        "colab": {
          "base_uri": "https://localhost:8080/"
        },
        "id": "VjPDTtpzTv-e",
        "outputId": "c93081cf-1c38-4581-ee5a-dfaa586b1a65"
      },
      "execution_count": 57,
      "outputs": [
        {
          "output_type": "execute_result",
          "data": {
            "text/plain": [
              "0    1616144506\n",
              "1    1616144908\n",
              "2    1616145309\n",
              "3    1616145711\n",
              "4    1616146112\n",
              "Name: t, dtype: int64"
            ]
          },
          "metadata": {},
          "execution_count": 57
        }
      ]
    },
    {
      "cell_type": "code",
      "source": [
        "data.info()"
      ],
      "metadata": {
        "colab": {
          "base_uri": "https://localhost:8080/"
        },
        "id": "hzp3HAz-UECC",
        "outputId": "022d1b42-6a47-4461-93c1-ab9edf15c662"
      },
      "execution_count": 58,
      "outputs": [
        {
          "output_type": "stream",
          "name": "stdout",
          "text": [
            "<class 'pandas.core.frame.DataFrame'>\n",
            "Int64Index: 12066 entries, 0 to 12078\n",
            "Data columns (total 6 columns):\n",
            " #   Column  Non-Null Count  Dtype \n",
            "---  ------  --------------  ----- \n",
            " 0   t       12066 non-null  int64 \n",
            " 1   w       12066 non-null  int64 \n",
            " 2   h       12066 non-null  object\n",
            " 3   p1      12066 non-null  int64 \n",
            " 4   p25     12066 non-null  int64 \n",
            " 5   p10     12066 non-null  int64 \n",
            "dtypes: int64(5), object(1)\n",
            "memory usage: 659.9+ KB\n"
          ]
        }
      ]
    },
    {
      "cell_type": "markdown",
      "source": [
        "Timestamp is converted to int for mqtt to accept"
      ],
      "metadata": {
        "id": "bzb2hllDUJpd"
      }
    },
    {
      "cell_type": "markdown",
      "source": [
        "Now lets convert wind direction to integer type"
      ],
      "metadata": {
        "id": "blBPuKMYUtDc"
      }
    },
    {
      "cell_type": "code",
      "source": [
        "# Create a mapping dictionary for wind directions\n",
        "wind_direction_mapping = {\n",
        "    'N': 1,\n",
        "    'NE': 2,\n",
        "    'E': 3,\n",
        "    'SE': 4,\n",
        "    'S': 5,\n",
        "    'SW': 6,\n",
        "    'W': 7,\n",
        "    'NW': 8\n",
        "}\n",
        "\n",
        "data['h'] = data['h'].map(wind_direction_mapping)\n",
        "\n",
        "# This code will map the wind directions to integers based on the provided mapping."
      ],
      "metadata": {
        "id": "sQtaNnMyU9HH"
      },
      "execution_count": 59,
      "outputs": []
    },
    {
      "cell_type": "code",
      "source": [
        "data.info()"
      ],
      "metadata": {
        "colab": {
          "base_uri": "https://localhost:8080/"
        },
        "id": "AS3pAp1gVwU5",
        "outputId": "1c281230-fcb5-426f-f562-9c239c905ad8"
      },
      "execution_count": 60,
      "outputs": [
        {
          "output_type": "stream",
          "name": "stdout",
          "text": [
            "<class 'pandas.core.frame.DataFrame'>\n",
            "Int64Index: 12066 entries, 0 to 12078\n",
            "Data columns (total 6 columns):\n",
            " #   Column  Non-Null Count  Dtype\n",
            "---  ------  --------------  -----\n",
            " 0   t       12066 non-null  int64\n",
            " 1   w       12066 non-null  int64\n",
            " 2   h       12066 non-null  int64\n",
            " 3   p1      12066 non-null  int64\n",
            " 4   p25     12066 non-null  int64\n",
            " 5   p10     12066 non-null  int64\n",
            "dtypes: int64(6)\n",
            "memory usage: 659.9 KB\n"
          ]
        }
      ]
    },
    {
      "cell_type": "code",
      "source": [
        "data.head(10)"
      ],
      "metadata": {
        "colab": {
          "base_uri": "https://localhost:8080/",
          "height": 363
        },
        "id": "aq7MFaweVyNX",
        "outputId": "8f7f0846-605b-4fc3-e30a-360a064f62f9"
      },
      "execution_count": 61,
      "outputs": [
        {
          "output_type": "execute_result",
          "data": {
            "text/plain": [
              "            t  w  h  p1  p25  p10\n",
              "0  1616144506  2  4  30   48   62\n",
              "1  1616144908  3  5  32   50   67\n",
              "2  1616145309  1  7  31   48   64\n",
              "3  1616145711  4  8  29   49   62\n",
              "4  1616146112  9  5  30   47   61\n",
              "5  1616146514  9  2  30   46   62\n",
              "6  1616146916  4  7  26   41   54\n",
              "7  1616147317  4  2  36   56   54\n",
              "8  1616147719  2  8  31   49   60\n",
              "9  1616148120  2  7  30   47   58"
            ],
            "text/html": [
              "\n",
              "  <div id=\"df-d085e759-7dc8-450a-948a-e6c4f2f1d454\" class=\"colab-df-container\">\n",
              "    <div>\n",
              "<style scoped>\n",
              "    .dataframe tbody tr th:only-of-type {\n",
              "        vertical-align: middle;\n",
              "    }\n",
              "\n",
              "    .dataframe tbody tr th {\n",
              "        vertical-align: top;\n",
              "    }\n",
              "\n",
              "    .dataframe thead th {\n",
              "        text-align: right;\n",
              "    }\n",
              "</style>\n",
              "<table border=\"1\" class=\"dataframe\">\n",
              "  <thead>\n",
              "    <tr style=\"text-align: right;\">\n",
              "      <th></th>\n",
              "      <th>t</th>\n",
              "      <th>w</th>\n",
              "      <th>h</th>\n",
              "      <th>p1</th>\n",
              "      <th>p25</th>\n",
              "      <th>p10</th>\n",
              "    </tr>\n",
              "  </thead>\n",
              "  <tbody>\n",
              "    <tr>\n",
              "      <th>0</th>\n",
              "      <td>1616144506</td>\n",
              "      <td>2</td>\n",
              "      <td>4</td>\n",
              "      <td>30</td>\n",
              "      <td>48</td>\n",
              "      <td>62</td>\n",
              "    </tr>\n",
              "    <tr>\n",
              "      <th>1</th>\n",
              "      <td>1616144908</td>\n",
              "      <td>3</td>\n",
              "      <td>5</td>\n",
              "      <td>32</td>\n",
              "      <td>50</td>\n",
              "      <td>67</td>\n",
              "    </tr>\n",
              "    <tr>\n",
              "      <th>2</th>\n",
              "      <td>1616145309</td>\n",
              "      <td>1</td>\n",
              "      <td>7</td>\n",
              "      <td>31</td>\n",
              "      <td>48</td>\n",
              "      <td>64</td>\n",
              "    </tr>\n",
              "    <tr>\n",
              "      <th>3</th>\n",
              "      <td>1616145711</td>\n",
              "      <td>4</td>\n",
              "      <td>8</td>\n",
              "      <td>29</td>\n",
              "      <td>49</td>\n",
              "      <td>62</td>\n",
              "    </tr>\n",
              "    <tr>\n",
              "      <th>4</th>\n",
              "      <td>1616146112</td>\n",
              "      <td>9</td>\n",
              "      <td>5</td>\n",
              "      <td>30</td>\n",
              "      <td>47</td>\n",
              "      <td>61</td>\n",
              "    </tr>\n",
              "    <tr>\n",
              "      <th>5</th>\n",
              "      <td>1616146514</td>\n",
              "      <td>9</td>\n",
              "      <td>2</td>\n",
              "      <td>30</td>\n",
              "      <td>46</td>\n",
              "      <td>62</td>\n",
              "    </tr>\n",
              "    <tr>\n",
              "      <th>6</th>\n",
              "      <td>1616146916</td>\n",
              "      <td>4</td>\n",
              "      <td>7</td>\n",
              "      <td>26</td>\n",
              "      <td>41</td>\n",
              "      <td>54</td>\n",
              "    </tr>\n",
              "    <tr>\n",
              "      <th>7</th>\n",
              "      <td>1616147317</td>\n",
              "      <td>4</td>\n",
              "      <td>2</td>\n",
              "      <td>36</td>\n",
              "      <td>56</td>\n",
              "      <td>54</td>\n",
              "    </tr>\n",
              "    <tr>\n",
              "      <th>8</th>\n",
              "      <td>1616147719</td>\n",
              "      <td>2</td>\n",
              "      <td>8</td>\n",
              "      <td>31</td>\n",
              "      <td>49</td>\n",
              "      <td>60</td>\n",
              "    </tr>\n",
              "    <tr>\n",
              "      <th>9</th>\n",
              "      <td>1616148120</td>\n",
              "      <td>2</td>\n",
              "      <td>7</td>\n",
              "      <td>30</td>\n",
              "      <td>47</td>\n",
              "      <td>58</td>\n",
              "    </tr>\n",
              "  </tbody>\n",
              "</table>\n",
              "</div>\n",
              "    <div class=\"colab-df-buttons\">\n",
              "\n",
              "  <div class=\"colab-df-container\">\n",
              "    <button class=\"colab-df-convert\" onclick=\"convertToInteractive('df-d085e759-7dc8-450a-948a-e6c4f2f1d454')\"\n",
              "            title=\"Convert this dataframe to an interactive table.\"\n",
              "            style=\"display:none;\">\n",
              "\n",
              "  <svg xmlns=\"http://www.w3.org/2000/svg\" height=\"24px\" viewBox=\"0 -960 960 960\">\n",
              "    <path d=\"M120-120v-720h720v720H120Zm60-500h600v-160H180v160Zm220 220h160v-160H400v160Zm0 220h160v-160H400v160ZM180-400h160v-160H180v160Zm440 0h160v-160H620v160ZM180-180h160v-160H180v160Zm440 0h160v-160H620v160Z\"/>\n",
              "  </svg>\n",
              "    </button>\n",
              "\n",
              "  <style>\n",
              "    .colab-df-container {\n",
              "      display:flex;\n",
              "      gap: 12px;\n",
              "    }\n",
              "\n",
              "    .colab-df-convert {\n",
              "      background-color: #E8F0FE;\n",
              "      border: none;\n",
              "      border-radius: 50%;\n",
              "      cursor: pointer;\n",
              "      display: none;\n",
              "      fill: #1967D2;\n",
              "      height: 32px;\n",
              "      padding: 0 0 0 0;\n",
              "      width: 32px;\n",
              "    }\n",
              "\n",
              "    .colab-df-convert:hover {\n",
              "      background-color: #E2EBFA;\n",
              "      box-shadow: 0px 1px 2px rgba(60, 64, 67, 0.3), 0px 1px 3px 1px rgba(60, 64, 67, 0.15);\n",
              "      fill: #174EA6;\n",
              "    }\n",
              "\n",
              "    .colab-df-buttons div {\n",
              "      margin-bottom: 4px;\n",
              "    }\n",
              "\n",
              "    [theme=dark] .colab-df-convert {\n",
              "      background-color: #3B4455;\n",
              "      fill: #D2E3FC;\n",
              "    }\n",
              "\n",
              "    [theme=dark] .colab-df-convert:hover {\n",
              "      background-color: #434B5C;\n",
              "      box-shadow: 0px 1px 3px 1px rgba(0, 0, 0, 0.15);\n",
              "      filter: drop-shadow(0px 1px 2px rgba(0, 0, 0, 0.3));\n",
              "      fill: #FFFFFF;\n",
              "    }\n",
              "  </style>\n",
              "\n",
              "    <script>\n",
              "      const buttonEl =\n",
              "        document.querySelector('#df-d085e759-7dc8-450a-948a-e6c4f2f1d454 button.colab-df-convert');\n",
              "      buttonEl.style.display =\n",
              "        google.colab.kernel.accessAllowed ? 'block' : 'none';\n",
              "\n",
              "      async function convertToInteractive(key) {\n",
              "        const element = document.querySelector('#df-d085e759-7dc8-450a-948a-e6c4f2f1d454');\n",
              "        const dataTable =\n",
              "          await google.colab.kernel.invokeFunction('convertToInteractive',\n",
              "                                                    [key], {});\n",
              "        if (!dataTable) return;\n",
              "\n",
              "        const docLinkHtml = 'Like what you see? Visit the ' +\n",
              "          '<a target=\"_blank\" href=https://colab.research.google.com/notebooks/data_table.ipynb>data table notebook</a>'\n",
              "          + ' to learn more about interactive tables.';\n",
              "        element.innerHTML = '';\n",
              "        dataTable['output_type'] = 'display_data';\n",
              "        await google.colab.output.renderOutput(dataTable, element);\n",
              "        const docLink = document.createElement('div');\n",
              "        docLink.innerHTML = docLinkHtml;\n",
              "        element.appendChild(docLink);\n",
              "      }\n",
              "    </script>\n",
              "  </div>\n",
              "\n",
              "\n",
              "<div id=\"df-48885bcf-b8e6-4c29-9cb1-32e95d9b671b\">\n",
              "  <button class=\"colab-df-quickchart\" onclick=\"quickchart('df-48885bcf-b8e6-4c29-9cb1-32e95d9b671b')\"\n",
              "            title=\"Suggest charts.\"\n",
              "            style=\"display:none;\">\n",
              "\n",
              "<svg xmlns=\"http://www.w3.org/2000/svg\" height=\"24px\"viewBox=\"0 0 24 24\"\n",
              "     width=\"24px\">\n",
              "    <g>\n",
              "        <path d=\"M19 3H5c-1.1 0-2 .9-2 2v14c0 1.1.9 2 2 2h14c1.1 0 2-.9 2-2V5c0-1.1-.9-2-2-2zM9 17H7v-7h2v7zm4 0h-2V7h2v10zm4 0h-2v-4h2v4z\"/>\n",
              "    </g>\n",
              "</svg>\n",
              "  </button>\n",
              "\n",
              "<style>\n",
              "  .colab-df-quickchart {\n",
              "      --bg-color: #E8F0FE;\n",
              "      --fill-color: #1967D2;\n",
              "      --hover-bg-color: #E2EBFA;\n",
              "      --hover-fill-color: #174EA6;\n",
              "      --disabled-fill-color: #AAA;\n",
              "      --disabled-bg-color: #DDD;\n",
              "  }\n",
              "\n",
              "  [theme=dark] .colab-df-quickchart {\n",
              "      --bg-color: #3B4455;\n",
              "      --fill-color: #D2E3FC;\n",
              "      --hover-bg-color: #434B5C;\n",
              "      --hover-fill-color: #FFFFFF;\n",
              "      --disabled-bg-color: #3B4455;\n",
              "      --disabled-fill-color: #666;\n",
              "  }\n",
              "\n",
              "  .colab-df-quickchart {\n",
              "    background-color: var(--bg-color);\n",
              "    border: none;\n",
              "    border-radius: 50%;\n",
              "    cursor: pointer;\n",
              "    display: none;\n",
              "    fill: var(--fill-color);\n",
              "    height: 32px;\n",
              "    padding: 0;\n",
              "    width: 32px;\n",
              "  }\n",
              "\n",
              "  .colab-df-quickchart:hover {\n",
              "    background-color: var(--hover-bg-color);\n",
              "    box-shadow: 0 1px 2px rgba(60, 64, 67, 0.3), 0 1px 3px 1px rgba(60, 64, 67, 0.15);\n",
              "    fill: var(--button-hover-fill-color);\n",
              "  }\n",
              "\n",
              "  .colab-df-quickchart-complete:disabled,\n",
              "  .colab-df-quickchart-complete:disabled:hover {\n",
              "    background-color: var(--disabled-bg-color);\n",
              "    fill: var(--disabled-fill-color);\n",
              "    box-shadow: none;\n",
              "  }\n",
              "\n",
              "  .colab-df-spinner {\n",
              "    border: 2px solid var(--fill-color);\n",
              "    border-color: transparent;\n",
              "    border-bottom-color: var(--fill-color);\n",
              "    animation:\n",
              "      spin 1s steps(1) infinite;\n",
              "  }\n",
              "\n",
              "  @keyframes spin {\n",
              "    0% {\n",
              "      border-color: transparent;\n",
              "      border-bottom-color: var(--fill-color);\n",
              "      border-left-color: var(--fill-color);\n",
              "    }\n",
              "    20% {\n",
              "      border-color: transparent;\n",
              "      border-left-color: var(--fill-color);\n",
              "      border-top-color: var(--fill-color);\n",
              "    }\n",
              "    30% {\n",
              "      border-color: transparent;\n",
              "      border-left-color: var(--fill-color);\n",
              "      border-top-color: var(--fill-color);\n",
              "      border-right-color: var(--fill-color);\n",
              "    }\n",
              "    40% {\n",
              "      border-color: transparent;\n",
              "      border-right-color: var(--fill-color);\n",
              "      border-top-color: var(--fill-color);\n",
              "    }\n",
              "    60% {\n",
              "      border-color: transparent;\n",
              "      border-right-color: var(--fill-color);\n",
              "    }\n",
              "    80% {\n",
              "      border-color: transparent;\n",
              "      border-right-color: var(--fill-color);\n",
              "      border-bottom-color: var(--fill-color);\n",
              "    }\n",
              "    90% {\n",
              "      border-color: transparent;\n",
              "      border-bottom-color: var(--fill-color);\n",
              "    }\n",
              "  }\n",
              "</style>\n",
              "\n",
              "  <script>\n",
              "    async function quickchart(key) {\n",
              "      const quickchartButtonEl =\n",
              "        document.querySelector('#' + key + ' button');\n",
              "      quickchartButtonEl.disabled = true;  // To prevent multiple clicks.\n",
              "      quickchartButtonEl.classList.add('colab-df-spinner');\n",
              "      try {\n",
              "        const charts = await google.colab.kernel.invokeFunction(\n",
              "            'suggestCharts', [key], {});\n",
              "      } catch (error) {\n",
              "        console.error('Error during call to suggestCharts:', error);\n",
              "      }\n",
              "      quickchartButtonEl.classList.remove('colab-df-spinner');\n",
              "      quickchartButtonEl.classList.add('colab-df-quickchart-complete');\n",
              "    }\n",
              "    (() => {\n",
              "      let quickchartButtonEl =\n",
              "        document.querySelector('#df-48885bcf-b8e6-4c29-9cb1-32e95d9b671b button');\n",
              "      quickchartButtonEl.style.display =\n",
              "        google.colab.kernel.accessAllowed ? 'block' : 'none';\n",
              "    })();\n",
              "  </script>\n",
              "</div>\n",
              "    </div>\n",
              "  </div>\n"
            ]
          },
          "metadata": {},
          "execution_count": 61
        }
      ]
    },
    {
      "cell_type": "markdown",
      "source": [
        "The data is ready to be transmitted to mqtt cloud"
      ],
      "metadata": {
        "id": "0idQIUFUV3Nw"
      }
    },
    {
      "cell_type": "code",
      "source": [
        "import csv\n",
        "import time"
      ],
      "metadata": {
        "id": "lAvPvuETXMfR"
      },
      "execution_count": 62,
      "outputs": []
    },
    {
      "cell_type": "code",
      "source": [
        "delay_seconds = 1"
      ],
      "metadata": {
        "id": "kRhI8I6NX8fW"
      },
      "execution_count": 63,
      "outputs": []
    },
    {
      "cell_type": "code",
      "source": [
        "broker_address = \"3099c0fa4d8740e5a3f57e0d13cd6f54.s1.eu.hivemq.cloud\"\n",
        "port = 8883\n",
        "username = \"hivemq.webclient.1693569459655\"\n",
        "password = \"6P,y$1zaIc0YRnwE5:D@\""
      ],
      "metadata": {
        "id": "3LYxtqzqfPWP"
      },
      "execution_count": 64,
      "outputs": []
    },
    {
      "cell_type": "code",
      "source": [
        "# Function to publish MQTT packets\n",
        "def publish_batch_mqtt(batch, topic):\n",
        "    client = mqtt.Client()\n",
        "    client.connect(broker_address, port)\n",
        "    for _, row in batch.iterrows():\n",
        "        payload = row.to_dict()  # Use the DataFrame row data as the payload\n",
        "        client.publish(topic, str(payload))\n",
        "\n",
        "    client.disconnect()"
      ],
      "metadata": {
        "id": "-w6yoEe1Xecc"
      },
      "execution_count": 65,
      "outputs": []
    },
    {
      "cell_type": "code",
      "source": [
        "# Create an MQTT client instance\n",
        "client = mqtt.Client()\n"
      ],
      "metadata": {
        "id": "3jH6mhfPfZn6"
      },
      "execution_count": 66,
      "outputs": []
    },
    {
      "cell_type": "code",
      "source": [
        "# Connect to the MQTT broker\n",
        "client.username_pw_set(username, password)\n",
        "client.connect(broker_address, port)"
      ],
      "metadata": {
        "colab": {
          "base_uri": "https://localhost:8080/"
        },
        "id": "0lFPOwI9fcdc",
        "outputId": "ef049590-aa57-4844-b1cc-65e7563c07e9"
      },
      "execution_count": 67,
      "outputs": [
        {
          "output_type": "execute_result",
          "data": {
            "text/plain": [
              "0"
            ]
          },
          "metadata": {},
          "execution_count": 67
        }
      ]
    },
    {
      "cell_type": "code",
      "source": [
        "topic = \"pollution_data/DeviceA\""
      ],
      "metadata": {
        "id": "OvkX4c8Cfftq"
      },
      "execution_count": 68,
      "outputs": []
    },
    {
      "cell_type": "code",
      "source": [
        "delay_seconds = 1"
      ],
      "metadata": {
        "id": "tFXRBnuQf8p_"
      },
      "execution_count": 69,
      "outputs": []
    },
    {
      "cell_type": "code",
      "source": [
        "batch_size = 100"
      ],
      "metadata": {
        "id": "rwjZqmyJhqkK"
      },
      "execution_count": 70,
      "outputs": []
    },
    {
      "cell_type": "code",
      "source": [
        "# Use ThreadPoolExecutor to parallelize data transmission in batches\n",
        "from concurrent.futures import ThreadPoolExecutor\n",
        "\n",
        "with ThreadPoolExecutor() as executor:\n",
        "    for i in range(0, len(data), batch_size):\n",
        "        batch = data.iloc[i:i+batch_size]  # Get a batch of rows\n",
        "        # Submit a new task to publish MQTT packets concurrently for the batch\n",
        "        executor.submit(publish_batch_mqtt, batch, topic)\n",
        "\n",
        "        # Add a delay between batch tasks to simulate stacked data\n",
        "        time.sleep(delay_seconds)\n",
        "\n",
        "# Close the MQTT connection\n",
        "client.disconnect()\n"
      ],
      "metadata": {
        "colab": {
          "base_uri": "https://localhost:8080/"
        },
        "id": "6uCtZY06f_tJ",
        "outputId": "9f1c0c58-e08c-415d-d9f6-fe4b9aff2009"
      },
      "execution_count": 71,
      "outputs": [
        {
          "output_type": "execute_result",
          "data": {
            "text/plain": [
              "0"
            ]
          },
          "metadata": {},
          "execution_count": 71
        }
      ]
    },
    {
      "cell_type": "code",
      "source": [
        "# Callback function when a message is received\n",
        "def on_message(client, userdata, message):\n",
        "    print(f\"Received message on topic '{message.topic}': {message.payload.decode()}\")\n",
        "\n",
        "# Create an MQTT client instance\n",
        "client = mqtt.Client()\n",
        "\n",
        "# Set the message callback function\n",
        "client.on_message = on_message\n",
        "\n",
        "# Connect to the MQTT broker\n",
        "client.connect(broker_address, port)\n",
        "\n",
        "# Subscribe to the MQTT topic\n",
        "client.subscribe(topic)\n",
        "\n",
        "# Start the MQTT loop to listen for incoming messages\n",
        "client.loop_start()\n",
        "\n",
        "# You can now receive and print incoming messages\n",
        "# Make sure to run this cell and wait for messages to arrive\n",
        "\n",
        "# To stop the MQTT client and unsubscribe, use:\n",
        "client.loop_stop()\n",
        "client.unsubscribe(topic)\n",
        "client.disconnect()\n"
      ],
      "metadata": {
        "colab": {
          "base_uri": "https://localhost:8080/"
        },
        "id": "fVtr0KGDjron",
        "outputId": "cf104001-9968-40a8-e7f7-ed781ca0e5e9"
      },
      "execution_count": 72,
      "outputs": [
        {
          "output_type": "execute_result",
          "data": {
            "text/plain": [
              "4"
            ]
          },
          "metadata": {},
          "execution_count": 72
        }
      ]
    },
    {
      "cell_type": "code",
      "source": [
        "import tensorflow as tf\n",
        "device_list = tf.test.gpu_device_name()"
      ],
      "metadata": {
        "id": "_U_hIUZbpEQ0"
      },
      "execution_count": 73,
      "outputs": []
    },
    {
      "cell_type": "code",
      "source": [
        "device_list"
      ],
      "metadata": {
        "colab": {
          "base_uri": "https://localhost:8080/",
          "height": 36
        },
        "id": "hqygsqhus_Ul",
        "outputId": "b95b8d4b-92b7-400b-bdec-3eeb167a4a34"
      },
      "execution_count": 74,
      "outputs": [
        {
          "output_type": "execute_result",
          "data": {
            "text/plain": [
              "'/device:GPU:0'"
            ],
            "application/vnd.google.colaboratory.intrinsic+json": {
              "type": "string"
            }
          },
          "metadata": {},
          "execution_count": 74
        }
      ]
    },
    {
      "cell_type": "code",
      "source": [
        "if device_list != '/device:GPU:0':\n",
        "  raise SystemError('GPU device not found')\n",
        "print('Found GPU at: {}'.format(device_list))"
      ],
      "metadata": {
        "colab": {
          "base_uri": "https://localhost:8080/"
        },
        "id": "rC_SBqY7tDbc",
        "outputId": "9cd18a59-358c-49eb-b65c-7c6d1aa2e532"
      },
      "execution_count": 75,
      "outputs": [
        {
          "output_type": "stream",
          "name": "stdout",
          "text": [
            "Found GPU at: /device:GPU:0\n"
          ]
        }
      ]
    },
    {
      "cell_type": "markdown",
      "source": [
        "# SAVING INTO MONGODB DATABASE"
      ],
      "metadata": {
        "id": "E--sFqUxwDWQ"
      }
    },
    {
      "cell_type": "code",
      "source": [
        "!pip install pymongo"
      ],
      "metadata": {
        "colab": {
          "base_uri": "https://localhost:8080/"
        },
        "id": "NMMuhUDKwC6c",
        "outputId": "7504dd8a-1376-456a-f32d-9d2252c9f82f"
      },
      "execution_count": 76,
      "outputs": [
        {
          "output_type": "stream",
          "name": "stdout",
          "text": [
            "Collecting pymongo\n",
            "  Downloading pymongo-4.5.0-cp310-cp310-manylinux_2_17_x86_64.manylinux2014_x86_64.whl (671 kB)\n",
            "\u001b[2K     \u001b[90m━━━━━━━━━━━━━━━━━━━━━━━━━━━━━━━━━━━━━━━\u001b[0m \u001b[32m671.3/671.3 kB\u001b[0m \u001b[31m5.5 MB/s\u001b[0m eta \u001b[36m0:00:00\u001b[0m\n",
            "\u001b[?25hCollecting dnspython<3.0.0,>=1.16.0 (from pymongo)\n",
            "  Downloading dnspython-2.4.2-py3-none-any.whl (300 kB)\n",
            "\u001b[2K     \u001b[90m━━━━━━━━━━━━━━━━━━━━━━━━━━━━━━━━━━━━━━━\u001b[0m \u001b[32m300.4/300.4 kB\u001b[0m \u001b[31m8.4 MB/s\u001b[0m eta \u001b[36m0:00:00\u001b[0m\n",
            "\u001b[?25hInstalling collected packages: dnspython, pymongo\n",
            "Successfully installed dnspython-2.4.2 pymongo-4.5.0\n"
          ]
        }
      ]
    },
    {
      "cell_type": "code",
      "source": [
        "import paho.mqtt.client as mqtt\n",
        "import pymongo\n",
        "\n",
        "# MongoDB Configuration\n",
        "mongo_client = pymongo.MongoClient(\"mongodb+srv://yashpavankumarsarda2021:<password>@cluster0.yqasffw.mongodb.net/?retryWrites=true&w=majority\")  # Replace with your MongoDB connection string\n",
        "db = mongo_client[\"mydatabase\"]\n",
        "collection = db[\"mycollection\"]\n",
        "\n",
        "# Callback function when a message is received\n",
        "def on_message(client, userdata, message):\n",
        "    # Parse the MQTT message payload\n",
        "    mqtt_payload = message.payload.decode()\n",
        "\n",
        "    # Extract the timestamp and data from the payload\n",
        "    timestamp = mqtt_payload.get(\"timestamp\")\n",
        "    data = mqtt_payload.get(\"data\")\n",
        "\n",
        "    # Save the data to MongoDB with the timestamp\n",
        "    collection.insert_one({\"timestamp\": timestamp, \"data\": data})\n",
        "\n",
        "# Create an MQTT client instance\n",
        "client = mqtt.Client()\n",
        "\n",
        "# Set the message callback function\n",
        "client.on_message = on_message\n",
        "\n",
        "# Connect to the MQTT broker and subscribe to the topic\n",
        "client.connect(broker_address, port)\n",
        "client.subscribe(topic)\n",
        "\n",
        "# Start the MQTT loop to listen for incoming messages\n",
        "client.loop_forever()\n"
      ],
      "metadata": {
        "colab": {
          "base_uri": "https://localhost:8080/",
          "height": 355
        },
        "id": "tM9iwHvutcVS",
        "outputId": "54a5d8d1-31b2-4fb9-86a6-7491df0d6cf0"
      },
      "execution_count": 77,
      "outputs": [
        {
          "output_type": "error",
          "ename": "KeyboardInterrupt",
          "evalue": "ignored",
          "traceback": [
            "\u001b[0;31m---------------------------------------------------------------------------\u001b[0m",
            "\u001b[0;31mKeyboardInterrupt\u001b[0m                         Traceback (most recent call last)",
            "\u001b[0;32m<ipython-input-77-acb5718d1fe1>\u001b[0m in \u001b[0;36m<cell line: 32>\u001b[0;34m()\u001b[0m\n\u001b[1;32m     30\u001b[0m \u001b[0;34m\u001b[0m\u001b[0m\n\u001b[1;32m     31\u001b[0m \u001b[0;31m# Start the MQTT loop to listen for incoming messages\u001b[0m\u001b[0;34m\u001b[0m\u001b[0;34m\u001b[0m\u001b[0m\n\u001b[0;32m---> 32\u001b[0;31m \u001b[0mclient\u001b[0m\u001b[0;34m.\u001b[0m\u001b[0mloop_forever\u001b[0m\u001b[0;34m(\u001b[0m\u001b[0;34m)\u001b[0m\u001b[0;34m\u001b[0m\u001b[0;34m\u001b[0m\u001b[0m\n\u001b[0m",
            "\u001b[0;32m/usr/local/lib/python3.10/dist-packages/paho/mqtt/client.py\u001b[0m in \u001b[0;36mloop_forever\u001b[0;34m(self, timeout, max_packets, retry_first_connection)\u001b[0m\n\u001b[1;32m   1771\u001b[0m                 \u001b[0mrun\u001b[0m \u001b[0;34m=\u001b[0m \u001b[0;32mFalse\u001b[0m\u001b[0;34m\u001b[0m\u001b[0;34m\u001b[0m\u001b[0m\n\u001b[1;32m   1772\u001b[0m             \u001b[0;32melse\u001b[0m\u001b[0;34m:\u001b[0m\u001b[0;34m\u001b[0m\u001b[0;34m\u001b[0m\u001b[0m\n\u001b[0;32m-> 1773\u001b[0;31m                 \u001b[0mself\u001b[0m\u001b[0;34m.\u001b[0m\u001b[0m_reconnect_wait\u001b[0m\u001b[0;34m(\u001b[0m\u001b[0;34m)\u001b[0m\u001b[0;34m\u001b[0m\u001b[0;34m\u001b[0m\u001b[0m\n\u001b[0m\u001b[1;32m   1774\u001b[0m \u001b[0;34m\u001b[0m\u001b[0m\n\u001b[1;32m   1775\u001b[0m                 \u001b[0;32mif\u001b[0m \u001b[0mshould_exit\u001b[0m\u001b[0;34m(\u001b[0m\u001b[0;34m)\u001b[0m\u001b[0;34m:\u001b[0m\u001b[0;34m\u001b[0m\u001b[0;34m\u001b[0m\u001b[0m\n",
            "\u001b[0;32m/usr/local/lib/python3.10/dist-packages/paho/mqtt/client.py\u001b[0m in \u001b[0;36m_reconnect_wait\u001b[0;34m(self)\u001b[0m\n\u001b[1;32m   3610\u001b[0m                 and remaining > 0):\n\u001b[1;32m   3611\u001b[0m \u001b[0;34m\u001b[0m\u001b[0m\n\u001b[0;32m-> 3612\u001b[0;31m             \u001b[0mtime\u001b[0m\u001b[0;34m.\u001b[0m\u001b[0msleep\u001b[0m\u001b[0;34m(\u001b[0m\u001b[0mmin\u001b[0m\u001b[0;34m(\u001b[0m\u001b[0mremaining\u001b[0m\u001b[0;34m,\u001b[0m \u001b[0;36m1\u001b[0m\u001b[0;34m)\u001b[0m\u001b[0;34m)\u001b[0m\u001b[0;34m\u001b[0m\u001b[0;34m\u001b[0m\u001b[0m\n\u001b[0m\u001b[1;32m   3613\u001b[0m             \u001b[0mremaining\u001b[0m \u001b[0;34m=\u001b[0m \u001b[0mtarget_time\u001b[0m \u001b[0;34m-\u001b[0m \u001b[0mtime_func\u001b[0m\u001b[0;34m(\u001b[0m\u001b[0;34m)\u001b[0m\u001b[0;34m\u001b[0m\u001b[0;34m\u001b[0m\u001b[0m\n\u001b[1;32m   3614\u001b[0m \u001b[0;34m\u001b[0m\u001b[0m\n",
            "\u001b[0;31mKeyboardInterrupt\u001b[0m: "
          ]
        }
      ]
    },
    {
      "cell_type": "markdown",
      "source": [
        "# Plotting and comparing them using matplotlib"
      ],
      "metadata": {
        "id": "dCUdfYAN-iBw"
      }
    },
    {
      "cell_type": "code",
      "source": [
        "import matplotlib.pyplot as plt\n",
        "\n",
        "from ipywidgets import interact, widgets"
      ],
      "metadata": {
        "id": "_xp9RakbzKyD"
      },
      "execution_count": 78,
      "outputs": []
    },
    {
      "cell_type": "code",
      "source": [
        "data[\"t\"].min()"
      ],
      "metadata": {
        "colab": {
          "base_uri": "https://localhost:8080/"
        },
        "id": "0buhqXvV975u",
        "outputId": "f12618dd-c8cc-41bf-d5de-55b0cfd82983"
      },
      "execution_count": 79,
      "outputs": [
        {
          "output_type": "execute_result",
          "data": {
            "text/plain": [
              "315964902"
            ]
          },
          "metadata": {},
          "execution_count": 79
        }
      ]
    },
    {
      "cell_type": "code",
      "source": [
        "data[\"t\"].max()"
      ],
      "metadata": {
        "colab": {
          "base_uri": "https://localhost:8080/"
        },
        "id": "Kr1cPs1--LYX",
        "outputId": "a2c9c865-2caf-4f36-ed7a-d783db0074dd"
      },
      "execution_count": 80,
      "outputs": [
        {
          "output_type": "execute_result",
          "data": {
            "text/plain": [
              "1621527919"
            ]
          },
          "metadata": {},
          "execution_count": 80
        }
      ]
    },
    {
      "cell_type": "code",
      "source": [
        "start_date = 315964902\n",
        "end_date = 1621527919"
      ],
      "metadata": {
        "id": "kmZbuZrf-UDG"
      },
      "execution_count": null,
      "outputs": []
    },
    {
      "cell_type": "code",
      "source": [
        "data1 = pd.DataFrame({\n",
        "    't': range(1, 101),  # Integer timestamps, e.g., 1, 2, 3, ...\n",
        "    'p1': [0.5 + i * 0.1 for i in range(100)],\n",
        "    'p25': [1.0 + i * 0.2 for i in range(100)],\n",
        "    'p10': [0.3 + i * 0.05 for i in range(100)],\n",
        "})"
      ],
      "metadata": {
        "id": "Y_5KNA67-4bz"
      },
      "execution_count": 83,
      "outputs": []
    },
    {
      "cell_type": "code",
      "source": [
        "def plot_data(start_date, end_date, pm1, pm25, pm10):\n",
        "    filtered_data = data[(data['t'] >= start_date) & (data['t'] <= end_date)]\n",
        "\n",
        "    plt.figure(figsize=(10, 6))\n",
        "    if pm1:\n",
        "        plt.plot(filtered_data['t'], filtered_data['p1'], label='PM1.0')\n",
        "    if pm25:\n",
        "        plt.plot(filtered_data['t'], filtered_data['p25'], label='PM2.5')\n",
        "    if pm10:\n",
        "        plt.plot(filtered_data['t'], filtered_data['p10'], label='PM10')\n",
        "    plt.xlabel('Timestamp')\n",
        "    plt.ylabel('PM Values')\n",
        "    plt.title('PM Values Over Time')\n",
        "    plt.legend()\n",
        "    plt.grid(True)\n",
        "    plt.show()\n"
      ],
      "metadata": {
        "id": "HvFxtKIb-ORM"
      },
      "execution_count": 81,
      "outputs": []
    },
    {
      "cell_type": "code",
      "source": [
        "start_date_widget = widgets.IntSlider(\n",
        "    value=min(data['t']),\n",
        "    min=min(data['t']),\n",
        "    max=max(data['t']),\n",
        "    description='Start Timestamp:',\n",
        "    continuous_update=False\n",
        ")\n",
        "\n",
        "end_date_widget = widgets.IntSlider(\n",
        "    value=max(data['t']),\n",
        "    min=min(data['t']),\n",
        "    max=max(data['t']),\n",
        "    description='End Timestamp:',\n",
        "    continuous_update=False\n",
        ")\n",
        "\n",
        "pm1_checkbox = widgets.Checkbox(\n",
        "    value=True,\n",
        "    description='PM1.0'\n",
        ")\n",
        "\n",
        "pm25_checkbox = widgets.Checkbox(\n",
        "    value=True,\n",
        "    description='PM2.5'\n",
        ")\n",
        "\n",
        "pm10_checkbox = widgets.Checkbox(\n",
        "    value=True,\n",
        "    description='PM10'\n",
        ")\n",
        "\n"
      ],
      "metadata": {
        "id": "J7e7ULLD-dnj"
      },
      "execution_count": 84,
      "outputs": []
    },
    {
      "cell_type": "code",
      "source": [
        "interact(plot_data,\n",
        "         start_date=start_date_widget,\n",
        "         end_date=end_date_widget,\n",
        "         pm1=pm1_checkbox,\n",
        "         pm25=pm25_checkbox,\n",
        "         pm10=pm10_checkbox)"
      ],
      "metadata": {
        "colab": {
          "base_uri": "https://localhost:8080/",
          "height": 741,
          "referenced_widgets": [
            "fb3b7ce9a4304208a882e7f571ad6f8a",
            "e42d927001594f4ba2be503b81e6b6a5",
            "8889b3c9e3a2475d90579d4f70763cd1",
            "0b84ec51be4742fb95780d4796387930",
            "4e813f5814a849df9e9125f42e6bc153",
            "1c1b530f1dcb409b8dd558abf45de73c",
            "b3630a54ea7c46fcb5777d556105b9d7",
            "cad702074785438dab63208e59afd97e",
            "db31d228a2744894aac34915cfdc891b",
            "5d48a76e53c84b178accb735fbc39221",
            "4252cb8229e84b46910d2e92c1826635",
            "748fd2d73a9c44be921a78caf656cbcc",
            "a50a7d3886af41378672cd8222c6f52e",
            "2141e99a49ae450ca60be8c23bf9227a",
            "8d8e5fba90cd4615ae65347f4cf0e212",
            "d0e879c2aba5436286074aa48bc570b1",
            "afb96cb120104531b45aa6cc5baedbd7",
            "b22e5cb4d3194872945cee782a65b568",
            "d1997739223d471cb4e07186beaf0bfb"
          ]
        },
        "id": "NVgA3ymb-qS_",
        "outputId": "63731989-227e-4668-9e34-685b7419d6cc"
      },
      "execution_count": 85,
      "outputs": [
        {
          "output_type": "display_data",
          "data": {
            "text/plain": [
              "interactive(children=(IntSlider(value=315964902, continuous_update=False, description='Start Timestamp:', max=…"
            ],
            "application/vnd.jupyter.widget-view+json": {
              "version_major": 2,
              "version_minor": 0,
              "model_id": "fb3b7ce9a4304208a882e7f571ad6f8a"
            }
          },
          "metadata": {}
        },
        {
          "output_type": "execute_result",
          "data": {
            "text/plain": [
              "<function __main__.plot_data(start_date, end_date, pm1, pm25, pm10)>"
            ]
          },
          "metadata": {},
          "execution_count": 85
        }
      ]
    },
    {
      "cell_type": "code",
      "source": [
        "plt.bar(data1['t'], data1['p1'], label='PM1.0', alpha=0.7)\n",
        "plt.bar(data1['t'], data1['p25'], label='PM2.5', alpha=0.7)\n",
        "plt.bar(data1['t'], data1['p10'], label='PM10', alpha=0.7)\n",
        "plt.xlabel('Timestamp')\n",
        "plt.ylabel('PM Values')\n",
        "plt.title('PM Values Over Time')\n",
        "plt.legend()\n",
        "plt.grid(True)\n",
        "plt.show()"
      ],
      "metadata": {
        "colab": {
          "base_uri": "https://localhost:8080/",
          "height": 472
        },
        "id": "JXeNzRDe_wYO",
        "outputId": "1af3aa70-e417-4dcc-d5ca-09de6c281e96"
      },
      "execution_count": 90,
      "outputs": [
        {
          "output_type": "display_data",
          "data": {
            "text/plain": [
              "<Figure size 640x480 with 1 Axes>"
            ],
            "image/png": "[encoded data removed]"
          },
          "metadata": {}
        }
      ]
    },
    {
      "cell_type": "code",
      "source": [
        "plt.scatter(data1['p1'], data1['p25'], alpha=0.5)\n",
        "plt.xlabel('PM1.0')\n",
        "plt.ylabel('PM2.5')\n",
        "plt.title('Scatter Plot: PM1.0 vs PM2.5')\n",
        "plt.grid(True)\n",
        "plt.show()"
      ],
      "metadata": {
        "colab": {
          "base_uri": "https://localhost:8080/",
          "height": 472
        },
        "id": "bH4DTw4m_9et",
        "outputId": "b69a5973-d343-4579-9497-94a39d9c7938"
      },
      "execution_count": 91,
      "outputs": [
        {
          "output_type": "display_data",
          "data": {
            "text/plain": [
              "<Figure size 640x480 with 1 Axes>"
            ],
            "image/png": "[encoded data removed]"
          },
          "metadata": {}
        }
      ]
    },
    {
      "cell_type": "code",
      "source": [
        "data.corr()"
      ],
      "metadata": {
        "colab": {
          "base_uri": "https://localhost:8080/",
          "height": 237
        },
        "id": "Qa5k2CaRAls3",
        "outputId": "b17836e2-66f0-4c9e-b426-25668e29fe8f"
      },
      "execution_count": 92,
      "outputs": [
        {
          "output_type": "execute_result",
          "data": {
            "text/plain": [
              "            t         w         h        p1       p25       p10\n",
              "t    1.000000  0.002831  0.021377  0.034002  0.034332  0.033630\n",
              "w    0.002831  1.000000 -0.163680 -0.073577 -0.075933 -0.076656\n",
              "h    0.021377 -0.163680  1.000000  0.068083  0.069483  0.070342\n",
              "p1   0.034002 -0.073577  0.068083  1.000000  0.999831  0.999556\n",
              "p25  0.034332 -0.075933  0.069483  0.999831  1.000000  0.999880\n",
              "p10  0.033630 -0.076656  0.070342  0.999556  0.999880  1.000000"
            ],
            "text/html": [
              "\n",
              "  <div id=\"df-27bd732a-f6ca-4c4a-8bff-9c6be7579c63\" class=\"colab-df-container\">\n",
              "    <div>\n",
              "<style scoped>\n",
              "    .dataframe tbody tr th:only-of-type {\n",
              "        vertical-align: middle;\n",
              "    }\n",
              "\n",
              "    .dataframe tbody tr th {\n",
              "        vertical-align: top;\n",
              "    }\n",
              "\n",
              "    .dataframe thead th {\n",
              "        text-align: right;\n",
              "    }\n",
              "</style>\n",
              "<table border=\"1\" class=\"dataframe\">\n",
              "  <thead>\n",
              "    <tr style=\"text-align: right;\">\n",
              "      <th></th>\n",
              "      <th>t</th>\n",
              "      <th>w</th>\n",
              "      <th>h</th>\n",
              "      <th>p1</th>\n",
              "      <th>p25</th>\n",
              "      <th>p10</th>\n",
              "    </tr>\n",
              "  </thead>\n",
              "  <tbody>\n",
              "    <tr>\n",
              "      <th>t</th>\n",
              "      <td>1.000000</td>\n",
              "      <td>0.002831</td>\n",
              "      <td>0.021377</td>\n",
              "      <td>0.034002</td>\n",
              "      <td>0.034332</td>\n",
              "      <td>0.033630</td>\n",
              "    </tr>\n",
              "    <tr>\n",
              "      <th>w</th>\n",
              "      <td>0.002831</td>\n",
              "      <td>1.000000</td>\n",
              "      <td>-0.163680</td>\n",
              "      <td>-0.073577</td>\n",
              "      <td>-0.075933</td>\n",
              "      <td>-0.076656</td>\n",
              "    </tr>\n",
              "    <tr>\n",
              "      <th>h</th>\n",
              "      <td>0.021377</td>\n",
              "      <td>-0.163680</td>\n",
              "      <td>1.000000</td>\n",
              "      <td>0.068083</td>\n",
              "      <td>0.069483</td>\n",
              "      <td>0.070342</td>\n",
              "    </tr>\n",
              "    <tr>\n",
              "      <th>p1</th>\n",
              "      <td>0.034002</td>\n",
              "      <td>-0.073577</td>\n",
              "      <td>0.068083</td>\n",
              "      <td>1.000000</td>\n",
              "      <td>0.999831</td>\n",
              "      <td>0.999556</td>\n",
              "    </tr>\n",
              "    <tr>\n",
              "      <th>p25</th>\n",
              "      <td>0.034332</td>\n",
              "      <td>-0.075933</td>\n",
              "      <td>0.069483</td>\n",
              "      <td>0.999831</td>\n",
              "      <td>1.000000</td>\n",
              "      <td>0.999880</td>\n",
              "    </tr>\n",
              "    <tr>\n",
              "      <th>p10</th>\n",
              "      <td>0.033630</td>\n",
              "      <td>-0.076656</td>\n",
              "      <td>0.070342</td>\n",
              "      <td>0.999556</td>\n",
              "      <td>0.999880</td>\n",
              "      <td>1.000000</td>\n",
              "    </tr>\n",
              "  </tbody>\n",
              "</table>\n",
              "</div>\n",
              "    <div class=\"colab-df-buttons\">\n",
              "\n",
              "  <div class=\"colab-df-container\">\n",
              "    <button class=\"colab-df-convert\" onclick=\"convertToInteractive('df-27bd732a-f6ca-4c4a-8bff-9c6be7579c63')\"\n",
              "            title=\"Convert this dataframe to an interactive table.\"\n",
              "            style=\"display:none;\">\n",
              "\n",
              "  <svg xmlns=\"http://www.w3.org/2000/svg\" height=\"24px\" viewBox=\"0 -960 960 960\">\n",
              "    <path d=\"M120-120v-720h720v720H120Zm60-500h600v-160H180v160Zm220 220h160v-160H400v160Zm0 220h160v-160H400v160ZM180-400h160v-160H180v160Zm440 0h160v-160H620v160ZM180-180h160v-160H180v160Zm440 0h160v-160H620v160Z\"/>\n",
              "  </svg>\n",
              "    </button>\n",
              "\n",
              "  <style>\n",
              "    .colab-df-container {\n",
              "      display:flex;\n",
              "      gap: 12px;\n",
              "    }\n",
              "\n",
              "    .colab-df-convert {\n",
              "      background-color: #E8F0FE;\n",
              "      border: none;\n",
              "      border-radius: 50%;\n",
              "      cursor: pointer;\n",
              "      display: none;\n",
              "      fill: #1967D2;\n",
              "      height: 32px;\n",
              "      padding: 0 0 0 0;\n",
              "      width: 32px;\n",
              "    }\n",
              "\n",
              "    .colab-df-convert:hover {\n",
              "      background-color: #E2EBFA;\n",
              "      box-shadow: 0px 1px 2px rgba(60, 64, 67, 0.3), 0px 1px 3px 1px rgba(60, 64, 67, 0.15);\n",
              "      fill: #174EA6;\n",
              "    }\n",
              "\n",
              "    .colab-df-buttons div {\n",
              "      margin-bottom: 4px;\n",
              "    }\n",
              "\n",
              "    [theme=dark] .colab-df-convert {\n",
              "      background-color: #3B4455;\n",
              "      fill: #D2E3FC;\n",
              "    }\n",
              "\n",
              "    [theme=dark] .colab-df-convert:hover {\n",
              "      background-color: #434B5C;\n",
              "      box-shadow: 0px 1px 3px 1px rgba(0, 0, 0, 0.15);\n",
              "      filter: drop-shadow(0px 1px 2px rgba(0, 0, 0, 0.3));\n",
              "      fill: #FFFFFF;\n",
              "    }\n",
              "  </style>\n",
              "\n",
              "    <script>\n",
              "      const buttonEl =\n",
              "        document.querySelector('#df-27bd732a-f6ca-4c4a-8bff-9c6be7579c63 button.colab-df-convert');\n",
              "      buttonEl.style.display =\n",
              "        google.colab.kernel.accessAllowed ? 'block' : 'none';\n",
              "\n",
              "      async function convertToInteractive(key) {\n",
              "        const element = document.querySelector('#df-27bd732a-f6ca-4c4a-8bff-9c6be7579c63');\n",
              "        const dataTable =\n",
              "          await google.colab.kernel.invokeFunction('convertToInteractive',\n",
              "                                                    [key], {});\n",
              "        if (!dataTable) return;\n",
              "\n",
              "        const docLinkHtml = 'Like what you see? Visit the ' +\n",
              "          '<a target=\"_blank\" href=https://colab.research.google.com/notebooks/data_table.ipynb>data table notebook</a>'\n",
              "          + ' to learn more about interactive tables.';\n",
              "        element.innerHTML = '';\n",
              "        dataTable['output_type'] = 'display_data';\n",
              "        await google.colab.output.renderOutput(dataTable, element);\n",
              "        const docLink = document.createElement('div');\n",
              "        docLink.innerHTML = docLinkHtml;\n",
              "        element.appendChild(docLink);\n",
              "      }\n",
              "    </script>\n",
              "  </div>\n",
              "\n",
              "\n",
              "<div id=\"df-3cb633ca-694d-442d-97ef-9f40251631fe\">\n",
              "  <button class=\"colab-df-quickchart\" onclick=\"quickchart('df-3cb633ca-694d-442d-97ef-9f40251631fe')\"\n",
              "            title=\"Suggest charts.\"\n",
              "            style=\"display:none;\">\n",
              "\n",
              "<svg xmlns=\"http://www.w3.org/2000/svg\" height=\"24px\"viewBox=\"0 0 24 24\"\n",
              "     width=\"24px\">\n",
              "    <g>\n",
              "        <path d=\"M19 3H5c-1.1 0-2 .9-2 2v14c0 1.1.9 2 2 2h14c1.1 0 2-.9 2-2V5c0-1.1-.9-2-2-2zM9 17H7v-7h2v7zm4 0h-2V7h2v10zm4 0h-2v-4h2v4z\"/>\n",
              "    </g>\n",
              "</svg>\n",
              "  </button>\n",
              "\n",
              "<style>\n",
              "  .colab-df-quickchart {\n",
              "      --bg-color: #E8F0FE;\n",
              "      --fill-color: #1967D2;\n",
              "      --hover-bg-color: #E2EBFA;\n",
              "      --hover-fill-color: #174EA6;\n",
              "      --disabled-fill-color: #AAA;\n",
              "      --disabled-bg-color: #DDD;\n",
              "  }\n",
              "\n",
              "  [theme=dark] .colab-df-quickchart {\n",
              "      --bg-color: #3B4455;\n",
              "      --fill-color: #D2E3FC;\n",
              "      --hover-bg-color: #434B5C;\n",
              "      --hover-fill-color: #FFFFFF;\n",
              "      --disabled-bg-color: #3B4455;\n",
              "      --disabled-fill-color: #666;\n",
              "  }\n",
              "\n",
              "  .colab-df-quickchart {\n",
              "    background-color: var(--bg-color);\n",
              "    border: none;\n",
              "    border-radius: 50%;\n",
              "    cursor: pointer;\n",
              "    display: none;\n",
              "    fill: var(--fill-color);\n",
              "    height: 32px;\n",
              "    padding: 0;\n",
              "    width: 32px;\n",
              "  }\n",
              "\n",
              "  .colab-df-quickchart:hover {\n",
              "    background-color: var(--hover-bg-color);\n",
              "    box-shadow: 0 1px 2px rgba(60, 64, 67, 0.3), 0 1px 3px 1px rgba(60, 64, 67, 0.15);\n",
              "    fill: var(--button-hover-fill-color);\n",
              "  }\n",
              "\n",
              "  .colab-df-quickchart-complete:disabled,\n",
              "  .colab-df-quickchart-complete:disabled:hover {\n",
              "    background-color: var(--disabled-bg-color);\n",
              "    fill: var(--disabled-fill-color);\n",
              "    box-shadow: none;\n",
              "  }\n",
              "\n",
              "  .colab-df-spinner {\n",
              "    border: 2px solid var(--fill-color);\n",
              "    border-color: transparent;\n",
              "    border-bottom-color: var(--fill-color);\n",
              "    animation:\n",
              "      spin 1s steps(1) infinite;\n",
              "  }\n",
              "\n",
              "  @keyframes spin {\n",
              "    0% {\n",
              "      border-color: transparent;\n",
              "      border-bottom-color: var(--fill-color);\n",
              "      border-left-color: var(--fill-color);\n",
              "    }\n",
              "    20% {\n",
              "      border-color: transparent;\n",
              "      border-left-color: var(--fill-color);\n",
              "      border-top-color: var(--fill-color);\n",
              "    }\n",
              "    30% {\n",
              "      border-color: transparent;\n",
              "      border-left-color: var(--fill-color);\n",
              "      border-top-color: var(--fill-color);\n",
              "      border-right-color: var(--fill-color);\n",
              "    }\n",
              "    40% {\n",
              "      border-color: transparent;\n",
              "      border-right-color: var(--fill-color);\n",
              "      border-top-color: var(--fill-color);\n",
              "    }\n",
              "    60% {\n",
              "      border-color: transparent;\n",
              "      border-right-color: var(--fill-color);\n",
              "    }\n",
              "    80% {\n",
              "      border-color: transparent;\n",
              "      border-right-color: var(--fill-color);\n",
              "      border-bottom-color: var(--fill-color);\n",
              "    }\n",
              "    90% {\n",
              "      border-color: transparent;\n",
              "      border-bottom-color: var(--fill-color);\n",
              "    }\n",
              "  }\n",
              "</style>\n",
              "\n",
              "  <script>\n",
              "    async function quickchart(key) {\n",
              "      const quickchartButtonEl =\n",
              "        document.querySelector('#' + key + ' button');\n",
              "      quickchartButtonEl.disabled = true;  // To prevent multiple clicks.\n",
              "      quickchartButtonEl.classList.add('colab-df-spinner');\n",
              "      try {\n",
              "        const charts = await google.colab.kernel.invokeFunction(\n",
              "            'suggestCharts', [key], {});\n",
              "      } catch (error) {\n",
              "        console.error('Error during call to suggestCharts:', error);\n",
              "      }\n",
              "      quickchartButtonEl.classList.remove('colab-df-spinner');\n",
              "      quickchartButtonEl.classList.add('colab-df-quickchart-complete');\n",
              "    }\n",
              "    (() => {\n",
              "      let quickchartButtonEl =\n",
              "        document.querySelector('#df-3cb633ca-694d-442d-97ef-9f40251631fe button');\n",
              "      quickchartButtonEl.style.display =\n",
              "        google.colab.kernel.accessAllowed ? 'block' : 'none';\n",
              "    })();\n",
              "  </script>\n",
              "</div>\n",
              "    </div>\n",
              "  </div>\n"
            ]
          },
          "metadata": {},
          "execution_count": 92
        }
      ]
    },
    {
      "cell_type": "code",
      "source": [
        "plt.scatter(data1['p25'], data1['p10'], alpha=0.5)\n",
        "plt.xlabel('PM2.5')\n",
        "plt.ylabel('PM10')\n",
        "plt.title('Scatter Plot: PM2.5 vs PM10')\n",
        "plt.grid(True)\n",
        "plt.show()"
      ],
      "metadata": {
        "colab": {
          "base_uri": "https://localhost:8080/",
          "height": 472
        },
        "id": "HZYA_IJdA3C4",
        "outputId": "5f04896d-e8fa-47bd-9ad7-a6e1b1b23d54"
      },
      "execution_count": 95,
      "outputs": [
        {
          "output_type": "display_data",
          "data": {
            "text/plain": [
              "<Figure size 640x480 with 1 Axes>"
            ],
            "image/png": "[encoded data removed]"
          },
          "metadata": {}
        }
      ]
    }
  ]
}